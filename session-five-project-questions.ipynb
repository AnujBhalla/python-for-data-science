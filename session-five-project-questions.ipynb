{
 "cells": [
  {
   "cell_type": "markdown",
   "metadata": {},
   "source": [
    "# Python for Data Science Project Session 5: Economics and Finance"
   ]
  },
  {
   "cell_type": "markdown",
   "metadata": {},
   "source": [
    "## Introduction\n"
   ]
  },
  {
   "cell_type": "markdown",
   "metadata": {},
   "source": [
    "In this session, we will look at two mini projects related to Economics/Finance, applying techniques covered in Session Five and extending these a bit further. To start, we will import our general data science packages here, and then add the necessary machine learning imports as we go along so that it's clear when to use what: "
   ]
  },
  {
   "cell_type": "code",
   "execution_count": 9,
   "metadata": {},
   "outputs": [],
   "source": [
    "# Importing key data science libraries\n",
    "import numpy as np\n",
    "import pandas as pd\n",
    "import matplotlib.pyplot as plt\n",
    "\n",
    "# Convergence warning disabling\n",
    "from sklearn.exceptions import ConvergenceWarning\n",
    "from warnings import simplefilter\n",
    "\n",
    "simplefilter(\"ignore\", category=ConvergenceWarning)"
   ]
  },
  {
   "cell_type": "markdown",
   "metadata": {},
   "source": [
    "## Mini-Projects\n",
    "> [Classification: Which companies go bust?](#Classification:-Which-companies-go-bust?)\n",
    ">\n",
    "> [Regression: What are the drivers of worker productivity?](#Regression:-What-are-the-drivers-of-worker-productivity?)\n"
   ]
  },
  {
   "cell_type": "markdown",
   "metadata": {},
   "source": [
    "## Classification: Which companies go bust?\n",
    "For this project, we will aim to predict if a company is likely to go bankrupt given a variety of accounting and financial metrics. To do this, we will use  data collected from the Taiwan Economic Journal for the years 1999 to 2009. This kind of model would have all sorts of real world applications, from portfolio stock picks to loan approvals."
   ]
  },
  {
   "cell_type": "markdown",
   "metadata": {},
   "source": [
    "### Data set overview"
   ]
  },
  {
   "cell_type": "markdown",
   "metadata": {},
   "source": [
    "To start out, lets get an overview of our data set dimensions and feature types. We'll be doing a very simple overview in this section but feel free to perform more extensive EDA on your own: the more you know about your data, the better you can harness it through modelling.\n",
    "\n",
    "Start out with the following tasks:\n",
    "- Read in the data set as a pandas DataFrame (file path: `data/bankruptcy.csv`)\n",
    "- Output the first five data set rows\n",
    "- Print out a comprehensive summary of the data set (dimensions, variable names, data types, and null values)"
   ]
  },
  {
   "cell_type": "code",
   "execution_count": 10,
   "metadata": {},
   "outputs": [],
   "source": [
    "# Read bankruptcy data set\n",
    "bank = pd.read_csv('bankruptcy.csv')"
   ]
  },
  {
   "cell_type": "code",
   "execution_count": 11,
   "metadata": {},
   "outputs": [
    {
     "data": {
      "text/html": [
       "<div>\n",
       "<style scoped>\n",
       "    .dataframe tbody tr th:only-of-type {\n",
       "        vertical-align: middle;\n",
       "    }\n",
       "\n",
       "    .dataframe tbody tr th {\n",
       "        vertical-align: top;\n",
       "    }\n",
       "\n",
       "    .dataframe thead th {\n",
       "        text-align: right;\n",
       "    }\n",
       "</style>\n",
       "<table border=\"1\" class=\"dataframe\">\n",
       "  <thead>\n",
       "    <tr style=\"text-align: right;\">\n",
       "      <th></th>\n",
       "      <th>Bankrupt</th>\n",
       "      <th>ROA(C) before interest and depreciation before interest</th>\n",
       "      <th>ROA(A) before interest and % after tax</th>\n",
       "      <th>ROA(B) before interest and depreciation after tax</th>\n",
       "      <th>Operating Gross Margin</th>\n",
       "      <th>Realized Sales Gross Margin</th>\n",
       "      <th>Operating Profit Rate</th>\n",
       "      <th>Pre-tax net Interest Rate</th>\n",
       "      <th>After-tax net Interest Rate</th>\n",
       "      <th>Non-industry income and expenditure/revenue</th>\n",
       "      <th>...</th>\n",
       "      <th>Net Income to Total Assets</th>\n",
       "      <th>Total assets to GNP price</th>\n",
       "      <th>No-credit Interval</th>\n",
       "      <th>Gross Profit to Sales</th>\n",
       "      <th>Net Income to Stockholder's Equity</th>\n",
       "      <th>Liability to Equity</th>\n",
       "      <th>Degree of Financial Leverage (DFL)</th>\n",
       "      <th>Interest Coverage Ratio (Interest expense to EBIT)</th>\n",
       "      <th>Net Income Flag</th>\n",
       "      <th>Equity to Liability</th>\n",
       "    </tr>\n",
       "  </thead>\n",
       "  <tbody>\n",
       "    <tr>\n",
       "      <th>0</th>\n",
       "      <td>1</td>\n",
       "      <td>0.370594</td>\n",
       "      <td>0.424389</td>\n",
       "      <td>0.405750</td>\n",
       "      <td>0.601457</td>\n",
       "      <td>0.601457</td>\n",
       "      <td>0.998969</td>\n",
       "      <td>0.796887</td>\n",
       "      <td>0.808809</td>\n",
       "      <td>0.302646</td>\n",
       "      <td>...</td>\n",
       "      <td>0.716845</td>\n",
       "      <td>0.009219</td>\n",
       "      <td>0.622879</td>\n",
       "      <td>0.601453</td>\n",
       "      <td>0.827890</td>\n",
       "      <td>0.290202</td>\n",
       "      <td>0.026601</td>\n",
       "      <td>0.564050</td>\n",
       "      <td>1</td>\n",
       "      <td>0.016469</td>\n",
       "    </tr>\n",
       "    <tr>\n",
       "      <th>1</th>\n",
       "      <td>1</td>\n",
       "      <td>0.464291</td>\n",
       "      <td>0.538214</td>\n",
       "      <td>0.516730</td>\n",
       "      <td>0.610235</td>\n",
       "      <td>0.610235</td>\n",
       "      <td>0.998946</td>\n",
       "      <td>0.797380</td>\n",
       "      <td>0.809301</td>\n",
       "      <td>0.303556</td>\n",
       "      <td>...</td>\n",
       "      <td>0.795297</td>\n",
       "      <td>0.008323</td>\n",
       "      <td>0.623652</td>\n",
       "      <td>0.610237</td>\n",
       "      <td>0.839969</td>\n",
       "      <td>0.283846</td>\n",
       "      <td>0.264577</td>\n",
       "      <td>0.570175</td>\n",
       "      <td>1</td>\n",
       "      <td>0.020794</td>\n",
       "    </tr>\n",
       "    <tr>\n",
       "      <th>2</th>\n",
       "      <td>1</td>\n",
       "      <td>0.426071</td>\n",
       "      <td>0.499019</td>\n",
       "      <td>0.472295</td>\n",
       "      <td>0.601450</td>\n",
       "      <td>0.601364</td>\n",
       "      <td>0.998857</td>\n",
       "      <td>0.796403</td>\n",
       "      <td>0.808388</td>\n",
       "      <td>0.302035</td>\n",
       "      <td>...</td>\n",
       "      <td>0.774670</td>\n",
       "      <td>0.040003</td>\n",
       "      <td>0.623841</td>\n",
       "      <td>0.601449</td>\n",
       "      <td>0.836774</td>\n",
       "      <td>0.290189</td>\n",
       "      <td>0.026555</td>\n",
       "      <td>0.563706</td>\n",
       "      <td>1</td>\n",
       "      <td>0.016474</td>\n",
       "    </tr>\n",
       "    <tr>\n",
       "      <th>3</th>\n",
       "      <td>1</td>\n",
       "      <td>0.399844</td>\n",
       "      <td>0.451265</td>\n",
       "      <td>0.457733</td>\n",
       "      <td>0.583541</td>\n",
       "      <td>0.583541</td>\n",
       "      <td>0.998700</td>\n",
       "      <td>0.796967</td>\n",
       "      <td>0.808966</td>\n",
       "      <td>0.303350</td>\n",
       "      <td>...</td>\n",
       "      <td>0.739555</td>\n",
       "      <td>0.003252</td>\n",
       "      <td>0.622929</td>\n",
       "      <td>0.583538</td>\n",
       "      <td>0.834697</td>\n",
       "      <td>0.281721</td>\n",
       "      <td>0.026697</td>\n",
       "      <td>0.564663</td>\n",
       "      <td>1</td>\n",
       "      <td>0.023982</td>\n",
       "    </tr>\n",
       "    <tr>\n",
       "      <th>4</th>\n",
       "      <td>1</td>\n",
       "      <td>0.465022</td>\n",
       "      <td>0.538432</td>\n",
       "      <td>0.522298</td>\n",
       "      <td>0.598783</td>\n",
       "      <td>0.598783</td>\n",
       "      <td>0.998973</td>\n",
       "      <td>0.797366</td>\n",
       "      <td>0.809304</td>\n",
       "      <td>0.303475</td>\n",
       "      <td>...</td>\n",
       "      <td>0.795016</td>\n",
       "      <td>0.003878</td>\n",
       "      <td>0.623521</td>\n",
       "      <td>0.598782</td>\n",
       "      <td>0.839973</td>\n",
       "      <td>0.278514</td>\n",
       "      <td>0.024752</td>\n",
       "      <td>0.575617</td>\n",
       "      <td>1</td>\n",
       "      <td>0.035490</td>\n",
       "    </tr>\n",
       "  </tbody>\n",
       "</table>\n",
       "<p>5 rows × 96 columns</p>\n",
       "</div>"
      ],
      "text/plain": [
       "   Bankrupt   ROA(C) before interest and depreciation before interest  \\\n",
       "0         1                                           0.370594          \n",
       "1         1                                           0.464291          \n",
       "2         1                                           0.426071          \n",
       "3         1                                           0.399844          \n",
       "4         1                                           0.465022          \n",
       "\n",
       "    ROA(A) before interest and % after tax  \\\n",
       "0                                 0.424389   \n",
       "1                                 0.538214   \n",
       "2                                 0.499019   \n",
       "3                                 0.451265   \n",
       "4                                 0.538432   \n",
       "\n",
       "    ROA(B) before interest and depreciation after tax  \\\n",
       "0                                           0.405750    \n",
       "1                                           0.516730    \n",
       "2                                           0.472295    \n",
       "3                                           0.457733    \n",
       "4                                           0.522298    \n",
       "\n",
       "    Operating Gross Margin   Realized Sales Gross Margin  \\\n",
       "0                 0.601457                      0.601457   \n",
       "1                 0.610235                      0.610235   \n",
       "2                 0.601450                      0.601364   \n",
       "3                 0.583541                      0.583541   \n",
       "4                 0.598783                      0.598783   \n",
       "\n",
       "    Operating Profit Rate   Pre-tax net Interest Rate  \\\n",
       "0                0.998969                    0.796887   \n",
       "1                0.998946                    0.797380   \n",
       "2                0.998857                    0.796403   \n",
       "3                0.998700                    0.796967   \n",
       "4                0.998973                    0.797366   \n",
       "\n",
       "    After-tax net Interest Rate   Non-industry income and expenditure/revenue  \\\n",
       "0                      0.808809                                      0.302646   \n",
       "1                      0.809301                                      0.303556   \n",
       "2                      0.808388                                      0.302035   \n",
       "3                      0.808966                                      0.303350   \n",
       "4                      0.809304                                      0.303475   \n",
       "\n",
       "   ...   Net Income to Total Assets   Total assets to GNP price  \\\n",
       "0  ...                     0.716845                    0.009219   \n",
       "1  ...                     0.795297                    0.008323   \n",
       "2  ...                     0.774670                    0.040003   \n",
       "3  ...                     0.739555                    0.003252   \n",
       "4  ...                     0.795016                    0.003878   \n",
       "\n",
       "    No-credit Interval   Gross Profit to Sales  \\\n",
       "0             0.622879                0.601453   \n",
       "1             0.623652                0.610237   \n",
       "2             0.623841                0.601449   \n",
       "3             0.622929                0.583538   \n",
       "4             0.623521                0.598782   \n",
       "\n",
       "    Net Income to Stockholder's Equity   Liability to Equity  \\\n",
       "0                             0.827890              0.290202   \n",
       "1                             0.839969              0.283846   \n",
       "2                             0.836774              0.290189   \n",
       "3                             0.834697              0.281721   \n",
       "4                             0.839973              0.278514   \n",
       "\n",
       "    Degree of Financial Leverage (DFL)  \\\n",
       "0                             0.026601   \n",
       "1                             0.264577   \n",
       "2                             0.026555   \n",
       "3                             0.026697   \n",
       "4                             0.024752   \n",
       "\n",
       "    Interest Coverage Ratio (Interest expense to EBIT)   Net Income Flag  \\\n",
       "0                                           0.564050                   1   \n",
       "1                                           0.570175                   1   \n",
       "2                                           0.563706                   1   \n",
       "3                                           0.564663                   1   \n",
       "4                                           0.575617                   1   \n",
       "\n",
       "    Equity to Liability  \n",
       "0              0.016469  \n",
       "1              0.020794  \n",
       "2              0.016474  \n",
       "3              0.023982  \n",
       "4              0.035490  \n",
       "\n",
       "[5 rows x 96 columns]"
      ]
     },
     "execution_count": 11,
     "metadata": {},
     "output_type": "execute_result"
    }
   ],
   "source": [
    "# Output the first five rows\n",
    "bank.head(5)"
   ]
  },
  {
   "cell_type": "code",
   "execution_count": 12,
   "metadata": {},
   "outputs": [
    {
     "name": "stdout",
     "output_type": "stream",
     "text": [
      "<class 'pandas.core.frame.DataFrame'>\n",
      "RangeIndex: 6819 entries, 0 to 6818\n",
      "Data columns (total 96 columns):\n",
      " #   Column                                                    Non-Null Count  Dtype  \n",
      "---  ------                                                    --------------  -----  \n",
      " 0   Bankrupt                                                  6819 non-null   int64  \n",
      " 1    ROA(C) before interest and depreciation before interest  6819 non-null   float64\n",
      " 2    ROA(A) before interest and % after tax                   6819 non-null   float64\n",
      " 3    ROA(B) before interest and depreciation after tax        6819 non-null   float64\n",
      " 4    Operating Gross Margin                                   6819 non-null   float64\n",
      " 5    Realized Sales Gross Margin                              6819 non-null   float64\n",
      " 6    Operating Profit Rate                                    6819 non-null   float64\n",
      " 7    Pre-tax net Interest Rate                                6819 non-null   float64\n",
      " 8    After-tax net Interest Rate                              6819 non-null   float64\n",
      " 9    Non-industry income and expenditure/revenue              6819 non-null   float64\n",
      " 10   Continuous interest rate (after tax)                     6819 non-null   float64\n",
      " 11   Operating Expense Rate                                   6819 non-null   float64\n",
      " 12   Research and development expense rate                    6819 non-null   float64\n",
      " 13   Cash flow rate                                           6819 non-null   float64\n",
      " 14   Interest-bearing debt interest rate                      6819 non-null   float64\n",
      " 15   Tax rate (A)                                             6819 non-null   float64\n",
      " 16   Net Value Per Share (B)                                  6819 non-null   float64\n",
      " 17   Net Value Per Share (A)                                  6819 non-null   float64\n",
      " 18   Net Value Per Share (C)                                  6819 non-null   float64\n",
      " 19   Persistent EPS in the Last Four Seasons                  6819 non-null   float64\n",
      " 20   Cash Flow Per Share                                      6819 non-null   float64\n",
      " 21   Revenue Per Share (Yuan ¥)                               6819 non-null   float64\n",
      " 22   Operating Profit Per Share (Yuan ¥)                      6819 non-null   float64\n",
      " 23   Per Share Net profit before tax (Yuan ¥)                 6819 non-null   float64\n",
      " 24   Realized Sales Gross Profit Growth Rate                  6819 non-null   float64\n",
      " 25   Operating Profit Growth Rate                             6819 non-null   float64\n",
      " 26   After-tax Net Profit Growth Rate                         6819 non-null   float64\n",
      " 27   Regular Net Profit Growth Rate                           6819 non-null   float64\n",
      " 28   Continuous Net Profit Growth Rate                        6819 non-null   float64\n",
      " 29   Total Asset Growth Rate                                  6819 non-null   float64\n",
      " 30   Net Value Growth Rate                                    6819 non-null   float64\n",
      " 31   Total Asset Return Growth Rate Ratio                     6819 non-null   float64\n",
      " 32   Cash Reinvestment %                                      6819 non-null   float64\n",
      " 33   Current Ratio                                            6819 non-null   float64\n",
      " 34   Quick Ratio                                              6819 non-null   float64\n",
      " 35   Interest Expense Ratio                                   6819 non-null   float64\n",
      " 36   Total debt/Total net worth                               6819 non-null   float64\n",
      " 37   Debt ratio %                                             6819 non-null   float64\n",
      " 38   Net worth/Assets                                         6819 non-null   float64\n",
      " 39   Long-term fund suitability ratio (A)                     6819 non-null   float64\n",
      " 40   Borrowing dependency                                     6819 non-null   float64\n",
      " 41   Contingent liabilities/Net worth                         6819 non-null   float64\n",
      " 42   Operating profit/Paid-in capital                         6819 non-null   float64\n",
      " 43   Net profit before tax/Paid-in capital                    6819 non-null   float64\n",
      " 44   Inventory and accounts receivable/Net value              6819 non-null   float64\n",
      " 45   Total Asset Turnover                                     6819 non-null   float64\n",
      " 46   Accounts Receivable Turnover                             6819 non-null   float64\n",
      " 47   Average Collection Days                                  6819 non-null   float64\n",
      " 48   Inventory Turnover Rate (times)                          6819 non-null   float64\n",
      " 49   Fixed Assets Turnover Frequency                          6819 non-null   float64\n",
      " 50   Net Worth Turnover Rate (times)                          6819 non-null   float64\n",
      " 51   Revenue per person                                       6819 non-null   float64\n",
      " 52   Operating profit per person                              6819 non-null   float64\n",
      " 53   Allocation rate per person                               6819 non-null   float64\n",
      " 54   Working Capital to Total Assets                          6819 non-null   float64\n",
      " 55   Quick Assets/Total Assets                                6819 non-null   float64\n",
      " 56   Current Assets/Total Assets                              6819 non-null   float64\n",
      " 57   Cash/Total Assets                                        6819 non-null   float64\n",
      " 58   Quick Assets/Current Liability                           6819 non-null   float64\n",
      " 59   Cash/Current Liability                                   6819 non-null   float64\n",
      " 60   Current Liability to Assets                              6819 non-null   float64\n",
      " 61   Operating Funds to Liability                             6819 non-null   float64\n",
      " 62   Inventory/Working Capital                                6819 non-null   float64\n",
      " 63   Inventory/Current Liability                              6819 non-null   float64\n",
      " 64   Current Liabilities/Liability                            6819 non-null   float64\n",
      " 65   Working Capital/Equity                                   6819 non-null   float64\n",
      " 66   Current Liabilities/Equity                               6819 non-null   float64\n",
      " 67   Long-term Liability to Current Assets                    6819 non-null   float64\n",
      " 68   Retained Earnings to Total Assets                        6819 non-null   float64\n",
      " 69   Total income/Total expense                               6819 non-null   float64\n",
      " 70   Total expense/Assets                                     6819 non-null   float64\n",
      " 71   Current Asset Turnover Rate                              6819 non-null   float64\n",
      " 72   Quick Asset Turnover Rate                                6819 non-null   float64\n",
      " 73   Working capitcal Turnover Rate                           6819 non-null   float64\n",
      " 74   Cash Turnover Rate                                       6819 non-null   float64\n",
      " 75   Cash Flow to Sales                                       6819 non-null   float64\n",
      " 76   Fixed Assets to Assets                                   6819 non-null   float64\n",
      " 77   Current Liability to Liability                           6819 non-null   float64\n",
      " 78   Current Liability to Equity                              6819 non-null   float64\n",
      " 79   Equity to Long-term Liability                            6819 non-null   float64\n",
      " 80   Cash Flow to Total Assets                                6819 non-null   float64\n",
      " 81   Cash Flow to Liability                                   6819 non-null   float64\n",
      " 82   CFO to Assets                                            6819 non-null   float64\n",
      " 83   Cash Flow to Equity                                      6819 non-null   float64\n",
      " 84   Current Liability to Current Assets                      6819 non-null   float64\n",
      " 85   Liability-Assets Flag                                    6819 non-null   int64  \n",
      " 86   Net Income to Total Assets                               6819 non-null   float64\n",
      " 87   Total assets to GNP price                                6819 non-null   float64\n",
      " 88   No-credit Interval                                       6819 non-null   float64\n",
      " 89   Gross Profit to Sales                                    6819 non-null   float64\n",
      " 90   Net Income to Stockholder's Equity                       6819 non-null   float64\n",
      " 91   Liability to Equity                                      6819 non-null   float64\n",
      " 92   Degree of Financial Leverage (DFL)                       6819 non-null   float64\n",
      " 93   Interest Coverage Ratio (Interest expense to EBIT)       6819 non-null   float64\n",
      " 94   Net Income Flag                                          6819 non-null   int64  \n",
      " 95   Equity to Liability                                      6819 non-null   float64\n",
      "dtypes: float64(93), int64(3)\n",
      "memory usage: 5.0 MB\n"
     ]
    }
   ],
   "source": [
    "# Print the data set overview (dimensions, variable names, data types, null values)\n",
    "bank.info()"
   ]
  },
  {
   "cell_type": "markdown",
   "metadata": {},
   "source": [
    "### Our ML setup\n",
    "To start our project we want to set up our data in the usual machine learning configuration: a training and a test set, each with its own feature matrix and target vector. To start:\n",
    "\n",
    "- Import the `train_test_split()` function from scikit learn\n",
    "- Declare a target vector y (corresponding to the `Bankrupt` column in the data set)\n",
    "- Declare a feature matrix X (including all columns except `Bankrupt`)\n",
    "- Create a training and test set\n",
    "- Print the dimensions of X and y in both the training and test set."
   ]
  },
  {
   "cell_type": "code",
   "execution_count": 13,
   "metadata": {},
   "outputs": [],
   "source": [
    "# Importing train-test split function\n",
    "from sklearn.model_selection import train_test_split"
   ]
  },
  {
   "cell_type": "code",
   "execution_count": 209,
   "metadata": {},
   "outputs": [],
   "source": [
    "# Declare the target vector y which has the column label 'Bankrupt'\n",
    "\n",
    "\n",
    "y = bank.Bankrupt"
   ]
  },
  {
   "cell_type": "code",
   "execution_count": 254,
   "metadata": {},
   "outputs": [],
   "source": [
    "# Declare feature matrix\n",
    "X = bank.drop('Bankrupt', axis = 1)"
   ]
  },
  {
   "cell_type": "code",
   "execution_count": 255,
   "metadata": {},
   "outputs": [],
   "source": [
    "# Create a train-test- split using random state 253, test_size 30%\n",
    "X_train, X_test , y_train, y_test = train_test_split(X,y, test_size = 0.3, random_state = 253 )"
   ]
  },
  {
   "cell_type": "code",
   "execution_count": 256,
   "metadata": {},
   "outputs": [
    {
     "name": "stdout",
     "output_type": "stream",
     "text": [
      "X_train dimensions:  (4773, 95)\n",
      "y_train dimensions:  (4773,)\n"
     ]
    }
   ],
   "source": [
    "print('X_train dimensions: ', X_train.shape)\n",
    "print('y_train dimensions: ', y_train.shape)"
   ]
  },
  {
   "cell_type": "code",
   "execution_count": 257,
   "metadata": {},
   "outputs": [
    {
     "name": "stdout",
     "output_type": "stream",
     "text": [
      "X_test dimensions:  (2046, 95)\n",
      "y_test dimensions:  (2046,)\n"
     ]
    }
   ],
   "source": [
    "print('X_test dimensions: ', X_test.shape)\n",
    "print('y_test dimensions: ', y_test.shape)"
   ]
  },
  {
   "cell_type": "markdown",
   "metadata": {},
   "source": [
    "### Dimensionality reduction"
   ]
  },
  {
   "cell_type": "markdown",
   "metadata": {},
   "source": [
    "One problem that is immediately apparent is that we have a high number of features in our data. This constitutes a problem as capturing the complexities of a highly dimensional space through our model can lead us to **overfitting**. \n",
    "> This is known as the [Curse of Dimensionality](https://en.wikipedia.org/wiki/Curse_of_dimensionality#Machine_Learning) and is definitely a topic worth exploring further.\n",
    "\n",
    "\n",
    "In order to cope with the high dimensionality of our data we can employ several dimensionality reduction techniques. The first one we'll explore is called **Principal Component Analysis (PCA)** and for a more in-depth treatment of the subject be sure to refer [here](https://towardsdatascience.com/a-one-stop-shop-for-principal-component-analysis-5582fb7e0a9c). PCA essentially works by projecting our data points (which can be seen as vectors) into a lower dimensional space while maximizing the conserved variance of our data.\n",
    "\n",
    "Try out PCA on the training feature matrix `X_train` below:\n",
    "- Import the `PCA` class from the `sklearn.decomposition` module.\n",
    "- Decide on a number for `n_components`. This is going to be the new number of features.\n",
    "- Create a PCA transformer.\n",
    "- Train the transformer using the `.fit()` method.\n",
    "- Apply dimensionality reduction using the `.transform()` method.\n",
    "- Output the first five rows.\n",
    "\n",
    "> **Note:** The `.tranfrom()` method will return a NumPy array as opposed to a pandas DataFrame."
   ]
  },
  {
   "cell_type": "code",
   "execution_count": 258,
   "metadata": {},
   "outputs": [],
   "source": [
    "# Importing PCA class\n",
    "from sklearn.decomposition import PCA"
   ]
  },
  {
   "cell_type": "code",
   "execution_count": 259,
   "metadata": {},
   "outputs": [],
   "source": [
    "# Create PCA transformer that keeps 30 components \n",
    "\n",
    "pca = PCA(n_components =  30)"
   ]
  },
  {
   "cell_type": "code",
   "execution_count": 260,
   "metadata": {
    "tags": []
   },
   "outputs": [
    {
     "data": {
      "text/plain": [
       "array([[-2.52324157e+09, -1.91823136e+09, -1.23207915e+09,\n",
       "        -1.77637569e+09, -2.24122623e+09, -2.13745506e+09,\n",
       "        -1.28421760e+09, -4.52261294e+08, -1.01937320e+08,\n",
       "        -5.52686264e+07, -7.02151313e+07, -2.53818373e+07,\n",
       "        -7.21384722e+06, -9.46001532e+06, -3.31792878e+07,\n",
       "         6.10603356e+06, -1.41113649e+07, -2.61586112e+07,\n",
       "         4.69121351e+07, -1.09086978e+07,  5.99067020e+08,\n",
       "        -9.86325134e+05, -1.48851811e+06,  2.12616530e-02,\n",
       "        -3.88105750e-01,  3.94514731e-02, -1.05007930e-01,\n",
       "        -6.46131622e-04,  4.64488291e-02,  5.85107804e-02],\n",
       "       [-3.19016715e+09, -2.22937825e+09, -1.54228019e+09,\n",
       "        -1.13269409e+09, -3.55078397e+09, -9.20688361e+08,\n",
       "         4.73588916e+09, -7.58888675e+08, -1.32469566e+08,\n",
       "        -8.90460104e+06, -1.07697253e+08, -1.02141693e+07,\n",
       "        -6.16088936e+06, -1.21563734e+07, -2.36412031e+07,\n",
       "         3.98128179e+06, -1.13657285e+07,  3.43261529e+06,\n",
       "        -7.59926399e+06, -1.49584132e+07, -5.23087796e+06,\n",
       "        -1.02133356e+06, -1.43308461e+06, -3.09380860e-01,\n",
       "        -3.36137048e-01, -2.17573158e-02, -7.37063972e-02,\n",
       "        -1.87949448e-02, -3.17702907e-02,  2.67348647e-02],\n",
       "       [ 3.92303834e+08, -1.97764603e+09,  2.67252284e+09,\n",
       "        -3.91598467e+09,  1.04729296e+09, -3.08412568e+09,\n",
       "        -3.83588087e+08, -1.97379334e+08, -7.61359951e+07,\n",
       "        -3.86115448e+07, -4.24949266e+07, -1.03327234e+07,\n",
       "        -2.02690258e+07, -1.54344140e+07, -1.50065190e+07,\n",
       "        -4.80329717e+06, -4.51150163e+06,  4.72701454e+06,\n",
       "        -6.31623591e+06,  3.54540600e+06, -1.45669373e+07,\n",
       "        -4.64702684e+05, -1.49646647e+06, -3.73195940e-01,\n",
       "         2.90911157e-01, -3.90283803e-02,  1.34702301e-01,\n",
       "         1.52492638e-01, -1.50981699e-02,  5.58372440e-02],\n",
       "       [ 2.00201149e+09,  4.16824091e+09, -1.76939234e+09,\n",
       "         9.53955347e+08, -3.00340346e+09,  2.58399133e+09,\n",
       "        -1.93771226e+09, -4.01107861e+09, -1.15151971e+07,\n",
       "        -7.18652206e+07, -9.45698978e+07, -1.40121210e+06,\n",
       "        -8.45187382e+06, -8.90868102e+06,  1.48106384e+06,\n",
       "         4.04583843e+06,  5.84331413e+05, -1.73355014e+06,\n",
       "         1.11601900e+06, -3.00810823e+05, -1.11547505e+07,\n",
       "        -8.67748420e+05, -1.69447428e+05, -9.10820504e-02,\n",
       "        -3.08277817e-01,  1.26775454e-01,  3.23841926e-02,\n",
       "         1.24902246e-01,  2.14128913e-02, -9.51824271e-02]])"
      ]
     },
     "execution_count": 260,
     "metadata": {},
     "output_type": "execute_result"
    }
   ],
   "source": [
    "# Fit and transform using our PCA model\n",
    "pca.fit(X_train)\n",
    "pca.transform(X_train)\n",
    "pca.transform(X_train)[0:4]"
   ]
  },
  {
   "cell_type": "markdown",
   "metadata": {},
   "source": [
    "### Pipelines"
   ]
  },
  {
   "cell_type": "markdown",
   "metadata": {},
   "source": [
    "You might've noticed that most machine learning with scikit learn involves:\n",
    "- Instantiating a transformer or model.\n",
    "- Fitting this to our data using `.fit()`.\n",
    "- Transforming or predicting using `.transform()` or `.predict()`.\n",
    "\n",
    "This simple, general process means that we can simplify our ML process using **Pipelines**. A Pipeline allows you to establish a sequence of transformations terminating with *one estimator*. Pipelines can then be treated as any other scikit learn estimator, but each time they perform all of the interim transformation steps in the sequence. This has the benefit of greatly simplifying your code and can also help prevent [data leakage](https://machinelearningmastery.com/data-leakage-machine-learning/). \n",
    "\n",
    "To instantiate a Pipeline you must pass as an argument a list of $n+1$ tuples (where $n$ is the number of transforms) in the form: `[('transformer_1_name', transformer_1), ..., ('estimator_name', estimator)]`.\n",
    "\n",
    "We will now create Pipelines for a KNN, SVM, and Logistic Regression model below:\n",
    "- Import the `StandardScaler`, `KNeighborsClassifier`, `SVC`, and `LogisticRegression` classes from scikit learn.\n",
    "- Import the `Pipeline` class from scikit learn.\n",
    "- For each one of the three models, create a Pipeline with the following transforms (in order): scaling, PCA, estimator."
   ]
  },
  {
   "cell_type": "code",
   "execution_count": 261,
   "metadata": {},
   "outputs": [],
   "source": [
    "# Importing StandardScaler\n",
    "from sklearn.preprocessing import StandardScaler"
   ]
  },
  {
   "cell_type": "code",
   "execution_count": 262,
   "metadata": {},
   "outputs": [],
   "source": [
    "# Importing KNN, SVM, and Logistic Regression models \n",
    "from sklearn.neighbors import KNeighborsClassifier\n",
    "from sklearn.svm import SVC\n",
    "from sklearn.linear_model import LogisticRegression"
   ]
  },
  {
   "cell_type": "code",
   "execution_count": 263,
   "metadata": {},
   "outputs": [],
   "source": [
    "from sklearn.pipeline import Pipeline"
   ]
  },
  {
   "cell_type": "code",
   "execution_count": 264,
   "metadata": {},
   "outputs": [],
   "source": [
    "# Combine these into three Pipelines, one for each model\n",
    "knn_pipe = Pipeline([('Scaler', StandardScaler()), \n",
    "                     ('PCA', PCA(n_components=30)), \n",
    "                     ('Model', KNeighborsClassifier())])\n",
    "svm_pipe = Pipeline([('Scaler',StandardScaler()), \n",
    "                     ('PCA', PCA(n_components=30)),\n",
    "                     ('Model', SVC())])\n",
    "\n",
    "log_pipe = Pipeline([('Scaler', StandardScaler()),\n",
    "                     ('PCA', PCA(n_components=30)),\n",
    "                      ('Model', LogisticRegression())])"
   ]
  },
  {
   "cell_type": "markdown",
   "metadata": {},
   "source": [
    "### Alternative evaluation metrics"
   ]
  },
  {
   "cell_type": "markdown",
   "metadata": {},
   "source": [
    "During Session Five, you were introduced to Accuracy as an evaluation metric for classification model. As a reminder, accuracy is defined as follows:\n",
    "$$ \\text{Accuracy} = \\frac{TP+TN}{TP+FP+TN+FN}$$\n",
    "In other words, it is the ratio of correctly classified samples to the overall number of samples. We're now gonna compute accuracy for our three models. To do this, we use the `cross_val_score()` function from scikit learn (for documentation, see [here](https://scikit-learn.org/stable/modules/generated/sklearn.model_selection.cross_val_score.html?highlight=cross_val_score#sklearn.model_selection.cross_val_score)). This function calculates the average score (taking accuracy as the default metric for classification models) after carrying out K-fold cross validation, which we prefer in order to reduce bias and thus get a more 'realistic' estimate of our model's performance. \n",
    "\n",
    "To start out, print the average accuracy score for each of our models:\n",
    "- Import the `cross_val_score()` function from scikit learn.\n",
    "- Calculate the cross-validated scores for each pipeline estimator.\n",
    "- Print the mean score for each pipeline estimator."
   ]
  },
  {
   "cell_type": "code",
   "execution_count": 265,
   "metadata": {},
   "outputs": [],
   "source": [
    "# Importing cross_val_score\n",
    "from sklearn.model_selection import cross_val_score"
   ]
  },
  {
   "cell_type": "code",
   "execution_count": 266,
   "metadata": {},
   "outputs": [],
   "source": [
    "# Calculating mean cross-validated scores\n",
    "knn_score = cross_val_score(knn_pipe, X_train, y_train).mean()\n",
    "\n",
    "svm_score = cross_val_score(svm_pipe, X_train, y_train).mean()\n",
    "\n",
    "log_score = cross_val_score(log_pipe, X_train, y_train).mean()\n"
   ]
  },
  {
   "cell_type": "code",
   "execution_count": 267,
   "metadata": {},
   "outputs": [
    {
     "name": "stdout",
     "output_type": "stream",
     "text": [
      "KNN Accuracy Score:\n",
      "0.9650112505076448\n"
     ]
    }
   ],
   "source": [
    "print('KNN Accuracy Score:')\n",
    "print(knn_score)"
   ]
  },
  {
   "cell_type": "code",
   "execution_count": 268,
   "metadata": {},
   "outputs": [
    {
     "name": "stdout",
     "output_type": "stream",
     "text": [
      "SVM Accuracy Score:\n",
      "0.9677348612071521\n"
     ]
    }
   ],
   "source": [
    "print('SVM Accuracy Score:')\n",
    "print(svm_score)"
   ]
  },
  {
   "cell_type": "code",
   "execution_count": 269,
   "metadata": {},
   "outputs": [
    {
     "name": "stdout",
     "output_type": "stream",
     "text": [
      "Logistic Regression Accuracy Score:\n",
      "0.9668969453499731\n"
     ]
    }
   ],
   "source": [
    "print('Logistic Regression Accuracy Score:')\n",
    "print(log_score)"
   ]
  },
  {
   "cell_type": "markdown",
   "metadata": {},
   "source": [
    "Although accuracy is a good starting point to illustrate our model's predictive performance, it does come with some caveats. This is perhaps better illustrated by an example:\n",
    "\n",
    ">**Example:**\n",
    ">\n",
    "> *Imagine if I told you I can build a machine learning model that predicts whether or not an applicant is admitted into Harvard with 96.4% accuracy. Sounds good right! Now what if I told you the model works by predicting `NOT_ACCEPTED` to every applicant, irrespective of any data observed. This works as Harvard has a 4.6% admissions rate, but is our model any good?*  \n",
    "\n",
    "Often, we must consider using other metrics in classification. The best way to start out is by analysing how true positives/negatives are distributed among classes. We can do this through a confusion matrix, which represents this distribution in the following form:\n",
    "\n",
    "\n",
    "<img src='https://miro.medium.com/max/2102/1*fxiTNIgOyvAombPJx5KGeA.png' width=\"450\" height=\"400\">\n",
    "\n",
    "\n",
    "To output the confusion matrix of our predictions, we use the `confusion_matrix()` function from scikit learn (for documentation, see [here](https://scikit-learn.org/stable/modules/generated/sklearn.metrics.confusion_matrix.html?highlight=confusion#sklearn.metrics.confusion_matrix)). Try outputting the confussion matrix for all three of our model predictions:\n",
    "\n",
    "- Import the `confusion_matrix()` function from scikit learn.\n",
    "- Further separate the training set into training and validation sets using `train_test_split()` (suggested`test_size=0.2`).\n",
    "- Fit all pipeline estimators on the training set and predict on the validation set.\n",
    "- For each estimator's predictions, print the confusion matrix generated with `confusion_matrix()` by passing both `y_val` and `y_pred`. "
   ]
  },
  {
   "cell_type": "code",
   "execution_count": 270,
   "metadata": {},
   "outputs": [],
   "source": [
    "# Importing confusion matrix\n",
    "from sklearn.metrics import confusion_matrix"
   ]
  },
  {
   "cell_type": "code",
   "execution_count": 271,
   "metadata": {},
   "outputs": [],
   "source": [
    "\n",
    "# Create validation sample\n",
    "X_train, X_val , y_train, y_val = train_test_split(X_train,y_train, test_size = 0.2 )\n"
   ]
  },
  {
   "cell_type": "code",
   "execution_count": 272,
   "metadata": {},
   "outputs": [
    {
     "name": "stdout",
     "output_type": "stream",
     "text": [
      "X_train dimensions:  (3818, 95)\n",
      "y_train dimensions:  (3818,)\n"
     ]
    }
   ],
   "source": [
    "print('X_train dimensions: ', X_train.shape)\n",
    "print('y_train dimensions: ', y_train.shape)"
   ]
  },
  {
   "cell_type": "code",
   "execution_count": 273,
   "metadata": {},
   "outputs": [
    {
     "name": "stdout",
     "output_type": "stream",
     "text": [
      "X_val dimensions:  (955, 95)\n",
      "y_val dimensions:  (955,)\n"
     ]
    }
   ],
   "source": [
    "print('X_val dimensions: ', X_val.shape)\n",
    "print('y_val dimensions: ', y_val.shape)"
   ]
  },
  {
   "cell_type": "code",
   "execution_count": 274,
   "metadata": {},
   "outputs": [
    {
     "name": "stdout",
     "output_type": "stream",
     "text": [
      "KNN Confusion Matrix:\n",
      "[[925   3]\n",
      " [ 21   6]]\n"
     ]
    }
   ],
   "source": [
    "# Fit and predict KNN pipeline\n",
    "knn_pipe.fit(X_train,y_train)\n",
    "y_pred = knn_pipe.predict(X_val)\n",
    "print('KNN Confusion Matrix:')\n",
    "print(confusion_matrix(y_val, y_pred))"
   ]
  },
  {
   "cell_type": "code",
   "execution_count": 275,
   "metadata": {},
   "outputs": [
    {
     "name": "stdout",
     "output_type": "stream",
     "text": [
      "SVM Confusion Matrix\n",
      "[[928   0]\n",
      " [ 27   0]]\n"
     ]
    }
   ],
   "source": [
    "# Fit and predict SVM pipeline\n",
    "svm_pipe.fit(X_train, y_train)\n",
    "y_pred = svm_pipe.predict(X_val)\n",
    "print('SVM Confusion Matrix')\n",
    "print(confusion_matrix(y_val,y_pred))"
   ]
  },
  {
   "cell_type": "code",
   "execution_count": 276,
   "metadata": {},
   "outputs": [
    {
     "name": "stdout",
     "output_type": "stream",
     "text": [
      "Logistic Regression Confusion Matrix\n",
      "[[925   3]\n",
      " [ 21   6]]\n"
     ]
    }
   ],
   "source": [
    "# Fit and predict Logistic Regression pipeline\n",
    "\n",
    "log_pipe.fit(X_train,y_train)\n",
    "y_pred = log_pipe.predict(X_val)\n",
    "print('Logistic Regression Confusion Matrix')\n",
    "print(confusion_matrix(y_val, y_pred))"
   ]
  },
  {
   "cell_type": "markdown",
   "metadata": {},
   "source": [
    "From our confusion matrix, we can then derive the following useful metrics:\n",
    "\n",
    "\n",
    "$$\\text{Precision} = \\frac{TP}{TP+FP} \\\\\n",
    "\\text{Recall} = \\frac{TP}{TP+FN}\\\\\n",
    "\\text{F1 Score} = 2 * \\frac{\\text{Precision} * \\text{Recall}}{\\text{Precision} + \\text{Recall}}$$\n",
    "\n",
    "\n",
    "One way to obtain all of these metrics is using the `classification_report()` function from scikit learn (for documentation, see [here](https://scikit-learn.org/stable/modules/generated/sklearn.metrics.classification_report.html?highlight=classification#sklearn.metrics.classification_report)). Try outputting the classification report for our three models below:\n",
    "\n",
    "- Import the `classification_report()` function from scikit learn.\n",
    "- Fit all pipeline estimators on the training set and predict on the validation set.\n",
    "- For each estimator's predictions, print the confusion matrix generated with `classification_report()` by passing both `y_val` and `y_pred`. "
   ]
  },
  {
   "cell_type": "code",
   "execution_count": 277,
   "metadata": {},
   "outputs": [],
   "source": [
    "# Importing classification_report\n",
    "from sklearn.metrics import classification_report"
   ]
  },
  {
   "cell_type": "code",
   "execution_count": 278,
   "metadata": {},
   "outputs": [
    {
     "name": "stdout",
     "output_type": "stream",
     "text": [
      "KNN Classification Report:\n",
      "              precision    recall  f1-score   support\n",
      "\n",
      "           0       0.98      1.00      0.99       928\n",
      "           1       0.67      0.22      0.33        27\n",
      "\n",
      "    accuracy                           0.97       955\n",
      "   macro avg       0.82      0.61      0.66       955\n",
      "weighted avg       0.97      0.97      0.97       955\n",
      "\n"
     ]
    }
   ],
   "source": [
    "# Fit and predict KNN pipeline\n",
    "# ...\n",
    "print('KNN Classification Report:')\n",
    "knn_pipe.fit(X_train,y_train)\n",
    "y_pred = knn_pipe.predict(X_val)\n",
    "print(classification_report(y_val, y_pred))"
   ]
  },
  {
   "cell_type": "code",
   "execution_count": 279,
   "metadata": {},
   "outputs": [
    {
     "name": "stdout",
     "output_type": "stream",
     "text": [
      "SVM Classification Report:\n",
      "              precision    recall  f1-score   support\n",
      "\n",
      "           0       0.97      1.00      0.99       928\n",
      "           1       0.00      0.00      0.00        27\n",
      "\n",
      "    accuracy                           0.97       955\n",
      "   macro avg       0.49      0.50      0.49       955\n",
      "weighted avg       0.94      0.97      0.96       955\n",
      "\n"
     ]
    },
    {
     "name": "stderr",
     "output_type": "stream",
     "text": [
      "D:\\Users\\anujb\\miniconda3\\envs\\pyds\\lib\\site-packages\\sklearn\\metrics\\_classification.py:1221: UndefinedMetricWarning: Precision and F-score are ill-defined and being set to 0.0 in labels with no predicted samples. Use `zero_division` parameter to control this behavior.\n",
      "  _warn_prf(average, modifier, msg_start, len(result))\n"
     ]
    }
   ],
   "source": [
    "# Fit and predict SVM pipeline\n",
    "print('SVM Classification Report:')\n",
    "svm_pipe.fit(X_train,y_train)\n",
    "y_pred = svm_pipe.predict(X_val)\n",
    "print(classification_report(y_val, y_pred))"
   ]
  },
  {
   "cell_type": "code",
   "execution_count": 280,
   "metadata": {},
   "outputs": [
    {
     "name": "stdout",
     "output_type": "stream",
     "text": [
      "Logistic Regression Classification Report:\n",
      "              precision    recall  f1-score   support\n",
      "\n",
      "           0       0.98      0.99      0.99       928\n",
      "           1       0.58      0.26      0.36        27\n",
      "\n",
      "    accuracy                           0.97       955\n",
      "   macro avg       0.78      0.63      0.67       955\n",
      "weighted avg       0.97      0.97      0.97       955\n",
      "\n"
     ]
    }
   ],
   "source": [
    "# Fit and predict Logistic Regression pipeline\n",
    "print('Logistic Regression Classification Report:')\n",
    "log_pipe.fit(X_train,y_train)\n",
    "y_pred = log_pipe.predict(X_val)\n",
    "print(classification_report(y_val, y_pred))"
   ]
  },
  {
   "cell_type": "markdown",
   "metadata": {},
   "source": [
    "### Class imbalance and resampling"
   ]
  },
  {
   "cell_type": "markdown",
   "metadata": {},
   "source": [
    "As we can see from our classification reports, one metric that is especially low for all three models is recall amongst bankrupt companies. This highlights a frequent problem in classification ML which is known as **class imbalance**. It occurs when one class is significantly underrepresented in the training data, and thus our models are trained really well at \"spotting\" the majority class (which is easy), but really bad at spotting the minority one. This is problematic as our interest is often to predict the minority class (i.e bankrupt companies).\n",
    "\n",
    "To illustrate imbalance in our training data set, have a look at the plot below:"
   ]
  },
  {
   "cell_type": "code",
   "execution_count": 281,
   "metadata": {},
   "outputs": [
    {
     "data": {
      "image/png": "[encoded data removed]",
      "text/plain": [
       "<Figure size 432x432 with 1 Axes>"
      ]
     },
     "metadata": {
      "needs_background": "light"
     },
     "output_type": "display_data"
    }
   ],
   "source": [
    "# Ploting class imbalance\n",
    "fig, ax = plt.subplots(figsize=(6, 6)) \n",
    "ax.bar([0,1],y_train.value_counts())\n",
    "ax.set_xlabel('Bankrupt')\n",
    "ax.set_ylabel('Count')\n",
    "ax.set_xticks([0,1])\n",
    "ax.set_title('Distribution of company bankruptcy ')\n",
    "plt.show()"
   ]
  },
  {
   "cell_type": "markdown",
   "metadata": {},
   "source": [
    "To improve our model's ability to pick up bankrupt companies, we must resample our data set. There are generally two ways to do this:\n",
    "- Undersampling the majority class.\n",
    "- Oversampling the minority class.\n",
    "\n",
    "Here, we'll take a look at the latter option using a technique called Synthetic Minority Over-sampling Technique (SMOTE). For a more in depth treatment of this technique please refer [here](https://machinelearningmastery.com/smote-oversampling-for-imbalanced-classification/).\n",
    "\n",
    "To apply SMOTE, we'll have to use another library called Imbalanced Learn (imported as `imblearn`). To start, lets see how SMOTE resampling changes our class distribution:"
   ]
  },
  {
   "cell_type": "code",
   "execution_count": 282,
   "metadata": {},
   "outputs": [],
   "source": [
    "# Importing SMOTE class from Imbalanced Learn\n",
    "from imblearn.over_sampling import SMOTE"
   ]
  },
  {
   "cell_type": "code",
   "execution_count": 283,
   "metadata": {},
   "outputs": [],
   "source": [
    "# Resampling data\n",
    "sm = SMOTE(random_state=243)\n",
    "X_res, y_res = sm.fit_sample(X_train, y_train)"
   ]
  },
  {
   "cell_type": "code",
   "execution_count": 284,
   "metadata": {},
   "outputs": [
    {
     "data": {
      "image/png": "[encoded data removed]",
      "text/plain": [
       "<Figure size 432x432 with 1 Axes>"
      ]
     },
     "metadata": {
      "needs_background": "light"
     },
     "output_type": "display_data"
    }
   ],
   "source": [
    "# Re-plotting class balance\n",
    "fig, ax = plt.subplots(figsize=(6, 6)) \n",
    "ax.bar([0,1],y_res.value_counts())\n",
    "ax.set_xlabel('Bankrupt')\n",
    "ax.set_ylabel('Count')\n",
    "ax.set_xticks([0,1])\n",
    "ax.set_title('Distribution of company bankruptcy ')\n",
    "plt.show()"
   ]
  },
  {
   "cell_type": "markdown",
   "metadata": {},
   "source": [
    "What is great about this library is that it is built to integrate with scikit learn, so we can just add the SMOTE transformer onto our Pipelines. The only caveat is that, to do this, we must import the `make_pipeline()` function from Imbalanced Learn (for documentation, see [here](https://imbalanced-learn.org/stable/references/generated/imblearn.pipeline.make_pipeline.html)). Have a go at changing our Pipelines (add SMOTE resampling as the first step) and then use these to predict on our validation samples:\n",
    "- Import the `make_pipeline()` function from imblearn.\n",
    "- Make a pipeline for each estimator by passing the following transformers (in order): SMOTE, Scaling, PCA, estimator.\n",
    "- Fit on the training set and predict on the validation set using all three pipelines.\n",
    "- Print out the classification report for all three models. \n",
    "\n",
    "> **Note:** The `.make_pipeline()` function, unlike the method `Pipeline()`, does not require a list of tuples as an argument. Instead, just pass in whatever transformers and estimators you want in order (separated by commas.) "
   ]
  },
  {
   "cell_type": "code",
   "execution_count": 285,
   "metadata": {},
   "outputs": [],
   "source": [
    "# Importing make_pipeline\n",
    "from imblearn.pipeline import make_pipeline\n",
    "\n"
   ]
  },
  {
   "cell_type": "code",
   "execution_count": 286,
   "metadata": {},
   "outputs": [],
   "source": [
    "# Create three Pipelines, one for each model\n",
    "knn_pipe_os = make_pipeline(SMOTE(random_state=253), StandardScaler(), PCA(n_components=30), KNeighborsClassifier())\n",
    "svm_pipe_os = make_pipeline(SMOTE(random_state=253), StandardScaler(), PCA(n_components=30), SVC())\n",
    "log_pipe_os = make_pipeline(SMOTE(random_state=253), StandardScaler(), PCA(n_components=30), LogisticRegression())"
   ]
  },
  {
   "cell_type": "code",
   "execution_count": 287,
   "metadata": {},
   "outputs": [
    {
     "name": "stdout",
     "output_type": "stream",
     "text": [
      "KNN Classification Report:\n",
      "              precision    recall  f1-score   support\n",
      "\n",
      "           0       1.00      0.91      0.95       928\n",
      "           1       0.22      0.85      0.35        27\n",
      "\n",
      "    accuracy                           0.91       955\n",
      "   macro avg       0.61      0.88      0.65       955\n",
      "weighted avg       0.97      0.91      0.94       955\n",
      "\n"
     ]
    },
    {
     "data": {
      "text/plain": [
       "'pca = PCA(n_components=30)\\nscal = StandardScaler()\\nclf = KNeighborsClassifier()\\n\\n\\nX_train, y_train = SMOTE(random_state=253).fit_sample(X_train,y_train)\\n\\n\\nscal.fit_transform(X_train,y_train)\\npca.fit(X_train)\\npca.transform(X_train)\\n\\n\\nclf.fit(X_train,y_train);\\ny_pred = clf.predict(X_val)'"
      ]
     },
     "execution_count": 287,
     "metadata": {},
     "output_type": "execute_result"
    }
   ],
   "source": [
    "# Fit and predict KNN pipeline\n",
    "knn_pipe_os.fit(X_train,y_train)\n",
    "y_pred = knn_pipe_os.predict(X_val)\n",
    "print('KNN Classification Report:')\n",
    "print(classification_report(y_val, y_pred))\n",
    "\n",
    "'''pca = PCA(n_components=30)\n",
    "scal = StandardScaler()\n",
    "clf = KNeighborsClassifier()\n",
    "\n",
    "\n",
    "X_train, y_train = SMOTE(random_state=253).fit_sample(X_train,y_train)\n",
    "\n",
    "\n",
    "scal.fit_transform(X_train,y_train)\n",
    "pca.fit(X_train)\n",
    "pca.transform(X_train)\n",
    "\n",
    "\n",
    "clf.fit(X_train,y_train);\n",
    "y_pred = clf.predict(X_val)'''\n",
    "\n"
   ]
  },
  {
   "cell_type": "code",
   "execution_count": 288,
   "metadata": {},
   "outputs": [
    {
     "name": "stdout",
     "output_type": "stream",
     "text": [
      "SVM Classification Report:\n",
      "              precision    recall  f1-score   support\n",
      "\n",
      "           0       0.99      0.92      0.95       928\n",
      "           1       0.21      0.70      0.32        27\n",
      "\n",
      "    accuracy                           0.92       955\n",
      "   macro avg       0.60      0.81      0.64       955\n",
      "weighted avg       0.97      0.92      0.94       955\n",
      "\n"
     ]
    }
   ],
   "source": [
    "# Fit and predict SVM pipeline\n",
    "svm_pipe_os.fit(X_train,y_train)\n",
    "y_pred = svm_pipe_os.predict(X_val)\n",
    "print('SVM Classification Report:')\n",
    "print(classification_report(y_val, y_pred))"
   ]
  },
  {
   "cell_type": "code",
   "execution_count": 289,
   "metadata": {
    "tags": []
   },
   "outputs": [
    {
     "name": "stdout",
     "output_type": "stream",
     "text": [
      "Logistic Regression Classification Report:\n",
      "              precision    recall  f1-score   support\n",
      "\n",
      "           0       1.00      0.89      0.94       928\n",
      "           1       0.18      0.85      0.29        27\n",
      "\n",
      "    accuracy                           0.88       955\n",
      "   macro avg       0.59      0.87      0.62       955\n",
      "weighted avg       0.97      0.88      0.92       955\n",
      "\n"
     ]
    }
   ],
   "source": [
    "# Fit and predict Logistic Regression pipeline\n",
    "log_pipe_os.fit(X_train,y_train)\n",
    "y_pred = log_pipe_os.predict(X_val)\n",
    "print('Logistic Regression Classification Report:')\n",
    "print(classification_report(y_val, y_pred))"
   ]
  },
  {
   "cell_type": "markdown",
   "metadata": {},
   "source": [
    "### Wrapping it all up"
   ]
  },
  {
   "cell_type": "markdown",
   "metadata": {},
   "source": [
    "We're nearly there! Now its time to train our models using the whole initial training set (training + validation) to then predict on the test set:\n",
    "- Merge the training and validation sets into a new training set (covered in previous sessions).\n",
    "- Fit each model on the new training set.\n",
    "- Predict with each model on the test set.\n",
    "- Print out the classification report of your predictions."
   ]
  },
  {
   "cell_type": "code",
   "execution_count": 291,
   "metadata": {},
   "outputs": [],
   "source": [
    "# Merging together training and validation samples\n",
    "\n",
    "X_train = pd.concat([X_train, X_val])"
   ]
  },
  {
   "cell_type": "code",
   "execution_count": 293,
   "metadata": {},
   "outputs": [
    {
     "name": "stdout",
     "output_type": "stream",
     "text": [
      "X_train dimensions:  (4773, 95)\n",
      "y_train dimensions:  (4773,)\n",
      "X_test dimensions:  (2046, 95)\n"
     ]
    }
   ],
   "source": [
    "print('X_train dimensions: ', X_train.shape)\n",
    "print('y_train dimensions: ', y_train.shape)\n",
    "print('X_test dimensions: ', X_test.shape)"
   ]
  },
  {
   "cell_type": "code",
   "execution_count": 295,
   "metadata": {},
   "outputs": [
    {
     "name": "stdout",
     "output_type": "stream",
     "text": [
      "KNN Classification Report:\n",
      "              precision    recall  f1-score   support\n",
      "\n",
      "           0       0.97      0.99      0.98      1981\n",
      "           1       0.29      0.14      0.19        65\n",
      "\n",
      "    accuracy                           0.96      2046\n",
      "   macro avg       0.63      0.56      0.58      2046\n",
      "weighted avg       0.95      0.96      0.96      2046\n",
      "\n"
     ]
    }
   ],
   "source": [
    "# Fit and predict KNN pipeline\n",
    "knn_pipe_os.fit(X_train, y_train)\n",
    "y_pred = knn_pipe.predict(X_test)\n",
    "print('KNN Classification Report:')\n",
    "print(classification_report(y_test, y_pred))\n",
    "\n"
   ]
  },
  {
   "cell_type": "code",
   "execution_count": 296,
   "metadata": {},
   "outputs": [
    {
     "name": "stdout",
     "output_type": "stream",
     "text": [
      "SVM Classification Report:\n",
      "              precision    recall  f1-score   support\n",
      "\n",
      "           0       0.97      1.00      0.98      1981\n",
      "           1       1.00      0.02      0.03        65\n",
      "\n",
      "    accuracy                           0.97      2046\n",
      "   macro avg       0.98      0.51      0.51      2046\n",
      "weighted avg       0.97      0.97      0.95      2046\n",
      "\n"
     ]
    }
   ],
   "source": [
    "# Fit and predict SVM pipeline\n",
    "svm_pipe_os.fit(X_train, y_train)\n",
    "y_pred = svm_pipe.predict(X_test)\n",
    "print('SVM Classification Report:')\n",
    "print(classification_report(y_test, y_pred))\n"
   ]
  },
  {
   "cell_type": "code",
   "execution_count": 297,
   "metadata": {
    "tags": []
   },
   "outputs": [
    {
     "name": "stdout",
     "output_type": "stream",
     "text": [
      "logisitc regression Classification Report:\n",
      "              precision    recall  f1-score   support\n",
      "\n",
      "           0       0.97      0.99      0.98      1981\n",
      "           1       0.52      0.20      0.29        65\n",
      "\n",
      "    accuracy                           0.97      2046\n",
      "   macro avg       0.75      0.60      0.64      2046\n",
      "weighted avg       0.96      0.97      0.96      2046\n",
      "\n"
     ]
    }
   ],
   "source": [
    "# Fit and predict Logistic Regression pipeline\n",
    "log_pipe_os.fit(X_train, y_train)\n",
    "y_pred = log_pipe.predict(X_test)\n",
    "print('logisitc regression Classification Report:')\n",
    "print(classification_report(y_test, y_pred))\n"
   ]
  },
  {
   "cell_type": "markdown",
   "metadata": {},
   "source": [
    "### Taking it up a notch\n",
    "With this, we come to the end of this project, although this does not mean that you're done by any means. The project explored today can be improved in many ways to achieve better results, and doing so is what will truly help you grow as a data scientist. Here are some suggestions for improvements to this particular project:\n",
    "- **EDA:**\n",
    "    - How are the features in our data set distributed?\n",
    "    - What is the individual relationship of each of these with our target variable?\n",
    "    \n",
    "    \n",
    "- **Dimentionality reduction:**\n",
    "    - What number of components should we use to improve our predictions?\n",
    "    - What other dimensionality reduction techniques are there? (Hint: have a look at manifold learning models like [tSNE](https://scikit-learn.org/stable/modules/generated/sklearn.manifold.TSNE.html)) \n",
    "    \n",
    "    \n",
    "- **Preprocessing:**\n",
    "    - What other scaling methods are there? Which is the best for this problem?\n",
    "    - Is there any feature engineering that we can do? How?\n",
    "    - How do other resampling methods affect performance?\n",
    "    \n",
    "    \n",
    "- **Modelling:**\n",
    "    - What other classification models can you use?\n",
    "    - Try out ensemble models: random forests, LightGBM XGBoost... which works out best?\n",
    "    - Can you optimize any hyperparameters? How?\n",
    "    \n",
    "- **Evaluation Metrics:**\n",
    "    - Try looking at the ROC curve and the associated AUC metric [(link here)](https://towardsdatascience.com/understanding-auc-roc-curve-68b2303cc9c5). Can you implement these in your project? \n",
    "    \n",
    "    \n"
   ]
  },
  {
   "cell_type": "markdown",
   "metadata": {},
   "source": [
    "## Regression: What are the drivers of worker productivity?\n",
    "For this project, we will aim to predict the level of productivity for workers in the garment industry given a variety of production and supply chain metrics. To do this, we will use  data collected from January to March 2015 by the Industrial Engineering (IE) department of a garment manufacturing unit in\n",
    "Bangladesh. This kind of model would have all sorts of real world applications within the fields of operational research, labour economics, and supply chain management."
   ]
  },
  {
   "cell_type": "markdown",
   "metadata": {},
   "source": [
    "### Data set overview"
   ]
  },
  {
   "cell_type": "markdown",
   "metadata": {},
   "source": [
    "To start out, lets get an overview of our data set dimensions and feature types. We'll be doing a very simple overview in this section but feel free to perform more extensive EDA on your own: the more you know about your data, the better you can harness it through modelling.\n",
    "\n",
    "Start out with the following tasks:\n",
    "- Read in the data set as a pandas DataFrame (file path: `data/garments_worker_productivity.csv'`)\n",
    "- Output the first ten data set rows\n",
    "- Output the last ten data set rows\n",
    "- Print out a comprehensive summary of the data set (dimensions, variable names, data types, and null values)"
   ]
  },
  {
   "cell_type": "code",
   "execution_count": 386,
   "metadata": {},
   "outputs": [],
   "source": [
    "# Read bankruptcy data set\n",
    "prod = pd.read_csv('garments_worker_productivity.csv')"
   ]
  },
  {
   "cell_type": "code",
   "execution_count": 387,
   "metadata": {},
   "outputs": [
    {
     "data": {
      "text/html": [
       "<div>\n",
       "<style scoped>\n",
       "    .dataframe tbody tr th:only-of-type {\n",
       "        vertical-align: middle;\n",
       "    }\n",
       "\n",
       "    .dataframe tbody tr th {\n",
       "        vertical-align: top;\n",
       "    }\n",
       "\n",
       "    .dataframe thead th {\n",
       "        text-align: right;\n",
       "    }\n",
       "</style>\n",
       "<table border=\"1\" class=\"dataframe\">\n",
       "  <thead>\n",
       "    <tr style=\"text-align: right;\">\n",
       "      <th></th>\n",
       "      <th>date</th>\n",
       "      <th>quarter</th>\n",
       "      <th>department</th>\n",
       "      <th>team</th>\n",
       "      <th>targeted_productivity</th>\n",
       "      <th>smv</th>\n",
       "      <th>wip</th>\n",
       "      <th>over_time</th>\n",
       "      <th>incentive</th>\n",
       "      <th>idle_time</th>\n",
       "      <th>idle_men</th>\n",
       "      <th>no_of_style_change</th>\n",
       "      <th>no_of_workers</th>\n",
       "      <th>actual_productivity</th>\n",
       "    </tr>\n",
       "  </thead>\n",
       "  <tbody>\n",
       "    <tr>\n",
       "      <th>0</th>\n",
       "      <td>1/1/2015</td>\n",
       "      <td>Quarter1</td>\n",
       "      <td>sweing</td>\n",
       "      <td>8</td>\n",
       "      <td>0.80</td>\n",
       "      <td>26.16</td>\n",
       "      <td>1108.0</td>\n",
       "      <td>7080</td>\n",
       "      <td>98</td>\n",
       "      <td>0.0</td>\n",
       "      <td>0</td>\n",
       "      <td>0</td>\n",
       "      <td>59.0</td>\n",
       "      <td>0.940725</td>\n",
       "    </tr>\n",
       "    <tr>\n",
       "      <th>1</th>\n",
       "      <td>1/1/2015</td>\n",
       "      <td>Quarter1</td>\n",
       "      <td>finishing</td>\n",
       "      <td>1</td>\n",
       "      <td>0.75</td>\n",
       "      <td>3.94</td>\n",
       "      <td>NaN</td>\n",
       "      <td>960</td>\n",
       "      <td>0</td>\n",
       "      <td>0.0</td>\n",
       "      <td>0</td>\n",
       "      <td>0</td>\n",
       "      <td>8.0</td>\n",
       "      <td>0.886500</td>\n",
       "    </tr>\n",
       "    <tr>\n",
       "      <th>2</th>\n",
       "      <td>1/1/2015</td>\n",
       "      <td>Quarter1</td>\n",
       "      <td>sweing</td>\n",
       "      <td>11</td>\n",
       "      <td>0.80</td>\n",
       "      <td>11.41</td>\n",
       "      <td>968.0</td>\n",
       "      <td>3660</td>\n",
       "      <td>50</td>\n",
       "      <td>0.0</td>\n",
       "      <td>0</td>\n",
       "      <td>0</td>\n",
       "      <td>30.5</td>\n",
       "      <td>0.800570</td>\n",
       "    </tr>\n",
       "    <tr>\n",
       "      <th>3</th>\n",
       "      <td>1/1/2015</td>\n",
       "      <td>Quarter1</td>\n",
       "      <td>sweing</td>\n",
       "      <td>12</td>\n",
       "      <td>0.80</td>\n",
       "      <td>11.41</td>\n",
       "      <td>968.0</td>\n",
       "      <td>3660</td>\n",
       "      <td>50</td>\n",
       "      <td>0.0</td>\n",
       "      <td>0</td>\n",
       "      <td>0</td>\n",
       "      <td>30.5</td>\n",
       "      <td>0.800570</td>\n",
       "    </tr>\n",
       "    <tr>\n",
       "      <th>4</th>\n",
       "      <td>1/1/2015</td>\n",
       "      <td>Quarter1</td>\n",
       "      <td>sweing</td>\n",
       "      <td>6</td>\n",
       "      <td>0.80</td>\n",
       "      <td>25.90</td>\n",
       "      <td>1170.0</td>\n",
       "      <td>1920</td>\n",
       "      <td>50</td>\n",
       "      <td>0.0</td>\n",
       "      <td>0</td>\n",
       "      <td>0</td>\n",
       "      <td>56.0</td>\n",
       "      <td>0.800382</td>\n",
       "    </tr>\n",
       "    <tr>\n",
       "      <th>5</th>\n",
       "      <td>1/1/2015</td>\n",
       "      <td>Quarter1</td>\n",
       "      <td>sweing</td>\n",
       "      <td>7</td>\n",
       "      <td>0.80</td>\n",
       "      <td>25.90</td>\n",
       "      <td>984.0</td>\n",
       "      <td>6720</td>\n",
       "      <td>38</td>\n",
       "      <td>0.0</td>\n",
       "      <td>0</td>\n",
       "      <td>0</td>\n",
       "      <td>56.0</td>\n",
       "      <td>0.800125</td>\n",
       "    </tr>\n",
       "    <tr>\n",
       "      <th>6</th>\n",
       "      <td>1/1/2015</td>\n",
       "      <td>Quarter1</td>\n",
       "      <td>finishing</td>\n",
       "      <td>2</td>\n",
       "      <td>0.75</td>\n",
       "      <td>3.94</td>\n",
       "      <td>NaN</td>\n",
       "      <td>960</td>\n",
       "      <td>0</td>\n",
       "      <td>0.0</td>\n",
       "      <td>0</td>\n",
       "      <td>0</td>\n",
       "      <td>8.0</td>\n",
       "      <td>0.755167</td>\n",
       "    </tr>\n",
       "    <tr>\n",
       "      <th>7</th>\n",
       "      <td>1/1/2015</td>\n",
       "      <td>Quarter1</td>\n",
       "      <td>sweing</td>\n",
       "      <td>3</td>\n",
       "      <td>0.75</td>\n",
       "      <td>28.08</td>\n",
       "      <td>795.0</td>\n",
       "      <td>6900</td>\n",
       "      <td>45</td>\n",
       "      <td>0.0</td>\n",
       "      <td>0</td>\n",
       "      <td>0</td>\n",
       "      <td>57.5</td>\n",
       "      <td>0.753683</td>\n",
       "    </tr>\n",
       "    <tr>\n",
       "      <th>8</th>\n",
       "      <td>1/1/2015</td>\n",
       "      <td>Quarter1</td>\n",
       "      <td>sweing</td>\n",
       "      <td>2</td>\n",
       "      <td>0.75</td>\n",
       "      <td>19.87</td>\n",
       "      <td>733.0</td>\n",
       "      <td>6000</td>\n",
       "      <td>34</td>\n",
       "      <td>0.0</td>\n",
       "      <td>0</td>\n",
       "      <td>0</td>\n",
       "      <td>55.0</td>\n",
       "      <td>0.753098</td>\n",
       "    </tr>\n",
       "    <tr>\n",
       "      <th>9</th>\n",
       "      <td>1/1/2015</td>\n",
       "      <td>Quarter1</td>\n",
       "      <td>sweing</td>\n",
       "      <td>1</td>\n",
       "      <td>0.75</td>\n",
       "      <td>28.08</td>\n",
       "      <td>681.0</td>\n",
       "      <td>6900</td>\n",
       "      <td>45</td>\n",
       "      <td>0.0</td>\n",
       "      <td>0</td>\n",
       "      <td>0</td>\n",
       "      <td>57.5</td>\n",
       "      <td>0.750428</td>\n",
       "    </tr>\n",
       "  </tbody>\n",
       "</table>\n",
       "</div>"
      ],
      "text/plain": [
       "       date   quarter  department  team  targeted_productivity    smv     wip  \\\n",
       "0  1/1/2015  Quarter1      sweing     8                   0.80  26.16  1108.0   \n",
       "1  1/1/2015  Quarter1  finishing      1                   0.75   3.94     NaN   \n",
       "2  1/1/2015  Quarter1      sweing    11                   0.80  11.41   968.0   \n",
       "3  1/1/2015  Quarter1      sweing    12                   0.80  11.41   968.0   \n",
       "4  1/1/2015  Quarter1      sweing     6                   0.80  25.90  1170.0   \n",
       "5  1/1/2015  Quarter1      sweing     7                   0.80  25.90   984.0   \n",
       "6  1/1/2015  Quarter1  finishing      2                   0.75   3.94     NaN   \n",
       "7  1/1/2015  Quarter1      sweing     3                   0.75  28.08   795.0   \n",
       "8  1/1/2015  Quarter1      sweing     2                   0.75  19.87   733.0   \n",
       "9  1/1/2015  Quarter1      sweing     1                   0.75  28.08   681.0   \n",
       "\n",
       "   over_time  incentive  idle_time  idle_men  no_of_style_change  \\\n",
       "0       7080         98        0.0         0                   0   \n",
       "1        960          0        0.0         0                   0   \n",
       "2       3660         50        0.0         0                   0   \n",
       "3       3660         50        0.0         0                   0   \n",
       "4       1920         50        0.0         0                   0   \n",
       "5       6720         38        0.0         0                   0   \n",
       "6        960          0        0.0         0                   0   \n",
       "7       6900         45        0.0         0                   0   \n",
       "8       6000         34        0.0         0                   0   \n",
       "9       6900         45        0.0         0                   0   \n",
       "\n",
       "   no_of_workers  actual_productivity  \n",
       "0           59.0             0.940725  \n",
       "1            8.0             0.886500  \n",
       "2           30.5             0.800570  \n",
       "3           30.5             0.800570  \n",
       "4           56.0             0.800382  \n",
       "5           56.0             0.800125  \n",
       "6            8.0             0.755167  \n",
       "7           57.5             0.753683  \n",
       "8           55.0             0.753098  \n",
       "9           57.5             0.750428  "
      ]
     },
     "execution_count": 387,
     "metadata": {},
     "output_type": "execute_result"
    }
   ],
   "source": [
    "# Output the first ten rows\n",
    "prod.head(10)"
   ]
  },
  {
   "cell_type": "code",
   "execution_count": 388,
   "metadata": {},
   "outputs": [
    {
     "data": {
      "text/html": [
       "<div>\n",
       "<style scoped>\n",
       "    .dataframe tbody tr th:only-of-type {\n",
       "        vertical-align: middle;\n",
       "    }\n",
       "\n",
       "    .dataframe tbody tr th {\n",
       "        vertical-align: top;\n",
       "    }\n",
       "\n",
       "    .dataframe thead th {\n",
       "        text-align: right;\n",
       "    }\n",
       "</style>\n",
       "<table border=\"1\" class=\"dataframe\">\n",
       "  <thead>\n",
       "    <tr style=\"text-align: right;\">\n",
       "      <th></th>\n",
       "      <th>date</th>\n",
       "      <th>quarter</th>\n",
       "      <th>department</th>\n",
       "      <th>team</th>\n",
       "      <th>targeted_productivity</th>\n",
       "      <th>smv</th>\n",
       "      <th>wip</th>\n",
       "      <th>over_time</th>\n",
       "      <th>incentive</th>\n",
       "      <th>idle_time</th>\n",
       "      <th>idle_men</th>\n",
       "      <th>no_of_style_change</th>\n",
       "      <th>no_of_workers</th>\n",
       "      <th>actual_productivity</th>\n",
       "    </tr>\n",
       "  </thead>\n",
       "  <tbody>\n",
       "    <tr>\n",
       "      <th>1187</th>\n",
       "      <td>3/11/2015</td>\n",
       "      <td>Quarter2</td>\n",
       "      <td>sweing</td>\n",
       "      <td>4</td>\n",
       "      <td>0.75</td>\n",
       "      <td>26.82</td>\n",
       "      <td>1054.0</td>\n",
       "      <td>7080</td>\n",
       "      <td>45</td>\n",
       "      <td>0.0</td>\n",
       "      <td>0</td>\n",
       "      <td>0</td>\n",
       "      <td>59.0</td>\n",
       "      <td>0.750051</td>\n",
       "    </tr>\n",
       "    <tr>\n",
       "      <th>1188</th>\n",
       "      <td>3/11/2015</td>\n",
       "      <td>Quarter2</td>\n",
       "      <td>sweing</td>\n",
       "      <td>5</td>\n",
       "      <td>0.70</td>\n",
       "      <td>26.82</td>\n",
       "      <td>992.0</td>\n",
       "      <td>6960</td>\n",
       "      <td>30</td>\n",
       "      <td>0.0</td>\n",
       "      <td>0</td>\n",
       "      <td>1</td>\n",
       "      <td>58.0</td>\n",
       "      <td>0.700557</td>\n",
       "    </tr>\n",
       "    <tr>\n",
       "      <th>1189</th>\n",
       "      <td>3/11/2015</td>\n",
       "      <td>Quarter2</td>\n",
       "      <td>sweing</td>\n",
       "      <td>8</td>\n",
       "      <td>0.70</td>\n",
       "      <td>30.48</td>\n",
       "      <td>914.0</td>\n",
       "      <td>6840</td>\n",
       "      <td>30</td>\n",
       "      <td>0.0</td>\n",
       "      <td>0</td>\n",
       "      <td>1</td>\n",
       "      <td>57.0</td>\n",
       "      <td>0.700505</td>\n",
       "    </tr>\n",
       "    <tr>\n",
       "      <th>1190</th>\n",
       "      <td>3/11/2015</td>\n",
       "      <td>Quarter2</td>\n",
       "      <td>sweing</td>\n",
       "      <td>6</td>\n",
       "      <td>0.70</td>\n",
       "      <td>23.41</td>\n",
       "      <td>1128.0</td>\n",
       "      <td>4560</td>\n",
       "      <td>40</td>\n",
       "      <td>0.0</td>\n",
       "      <td>0</td>\n",
       "      <td>1</td>\n",
       "      <td>38.0</td>\n",
       "      <td>0.700246</td>\n",
       "    </tr>\n",
       "    <tr>\n",
       "      <th>1191</th>\n",
       "      <td>3/11/2015</td>\n",
       "      <td>Quarter2</td>\n",
       "      <td>sweing</td>\n",
       "      <td>7</td>\n",
       "      <td>0.65</td>\n",
       "      <td>30.48</td>\n",
       "      <td>935.0</td>\n",
       "      <td>6840</td>\n",
       "      <td>26</td>\n",
       "      <td>0.0</td>\n",
       "      <td>0</td>\n",
       "      <td>1</td>\n",
       "      <td>57.0</td>\n",
       "      <td>0.650596</td>\n",
       "    </tr>\n",
       "    <tr>\n",
       "      <th>1192</th>\n",
       "      <td>3/11/2015</td>\n",
       "      <td>Quarter2</td>\n",
       "      <td>finishing</td>\n",
       "      <td>10</td>\n",
       "      <td>0.75</td>\n",
       "      <td>2.90</td>\n",
       "      <td>NaN</td>\n",
       "      <td>960</td>\n",
       "      <td>0</td>\n",
       "      <td>0.0</td>\n",
       "      <td>0</td>\n",
       "      <td>0</td>\n",
       "      <td>8.0</td>\n",
       "      <td>0.628333</td>\n",
       "    </tr>\n",
       "    <tr>\n",
       "      <th>1193</th>\n",
       "      <td>3/11/2015</td>\n",
       "      <td>Quarter2</td>\n",
       "      <td>finishing</td>\n",
       "      <td>8</td>\n",
       "      <td>0.70</td>\n",
       "      <td>3.90</td>\n",
       "      <td>NaN</td>\n",
       "      <td>960</td>\n",
       "      <td>0</td>\n",
       "      <td>0.0</td>\n",
       "      <td>0</td>\n",
       "      <td>0</td>\n",
       "      <td>8.0</td>\n",
       "      <td>0.625625</td>\n",
       "    </tr>\n",
       "    <tr>\n",
       "      <th>1194</th>\n",
       "      <td>3/11/2015</td>\n",
       "      <td>Quarter2</td>\n",
       "      <td>finishing</td>\n",
       "      <td>7</td>\n",
       "      <td>0.65</td>\n",
       "      <td>3.90</td>\n",
       "      <td>NaN</td>\n",
       "      <td>960</td>\n",
       "      <td>0</td>\n",
       "      <td>0.0</td>\n",
       "      <td>0</td>\n",
       "      <td>0</td>\n",
       "      <td>8.0</td>\n",
       "      <td>0.625625</td>\n",
       "    </tr>\n",
       "    <tr>\n",
       "      <th>1195</th>\n",
       "      <td>3/11/2015</td>\n",
       "      <td>Quarter2</td>\n",
       "      <td>finishing</td>\n",
       "      <td>9</td>\n",
       "      <td>0.75</td>\n",
       "      <td>2.90</td>\n",
       "      <td>NaN</td>\n",
       "      <td>1800</td>\n",
       "      <td>0</td>\n",
       "      <td>0.0</td>\n",
       "      <td>0</td>\n",
       "      <td>0</td>\n",
       "      <td>15.0</td>\n",
       "      <td>0.505889</td>\n",
       "    </tr>\n",
       "    <tr>\n",
       "      <th>1196</th>\n",
       "      <td>3/11/2015</td>\n",
       "      <td>Quarter2</td>\n",
       "      <td>finishing</td>\n",
       "      <td>6</td>\n",
       "      <td>0.70</td>\n",
       "      <td>2.90</td>\n",
       "      <td>NaN</td>\n",
       "      <td>720</td>\n",
       "      <td>0</td>\n",
       "      <td>0.0</td>\n",
       "      <td>0</td>\n",
       "      <td>0</td>\n",
       "      <td>6.0</td>\n",
       "      <td>0.394722</td>\n",
       "    </tr>\n",
       "  </tbody>\n",
       "</table>\n",
       "</div>"
      ],
      "text/plain": [
       "           date   quarter department  team  targeted_productivity    smv  \\\n",
       "1187  3/11/2015  Quarter2     sweing     4                   0.75  26.82   \n",
       "1188  3/11/2015  Quarter2     sweing     5                   0.70  26.82   \n",
       "1189  3/11/2015  Quarter2     sweing     8                   0.70  30.48   \n",
       "1190  3/11/2015  Quarter2     sweing     6                   0.70  23.41   \n",
       "1191  3/11/2015  Quarter2     sweing     7                   0.65  30.48   \n",
       "1192  3/11/2015  Quarter2  finishing    10                   0.75   2.90   \n",
       "1193  3/11/2015  Quarter2  finishing     8                   0.70   3.90   \n",
       "1194  3/11/2015  Quarter2  finishing     7                   0.65   3.90   \n",
       "1195  3/11/2015  Quarter2  finishing     9                   0.75   2.90   \n",
       "1196  3/11/2015  Quarter2  finishing     6                   0.70   2.90   \n",
       "\n",
       "         wip  over_time  incentive  idle_time  idle_men  no_of_style_change  \\\n",
       "1187  1054.0       7080         45        0.0         0                   0   \n",
       "1188   992.0       6960         30        0.0         0                   1   \n",
       "1189   914.0       6840         30        0.0         0                   1   \n",
       "1190  1128.0       4560         40        0.0         0                   1   \n",
       "1191   935.0       6840         26        0.0         0                   1   \n",
       "1192     NaN        960          0        0.0         0                   0   \n",
       "1193     NaN        960          0        0.0         0                   0   \n",
       "1194     NaN        960          0        0.0         0                   0   \n",
       "1195     NaN       1800          0        0.0         0                   0   \n",
       "1196     NaN        720          0        0.0         0                   0   \n",
       "\n",
       "      no_of_workers  actual_productivity  \n",
       "1187           59.0             0.750051  \n",
       "1188           58.0             0.700557  \n",
       "1189           57.0             0.700505  \n",
       "1190           38.0             0.700246  \n",
       "1191           57.0             0.650596  \n",
       "1192            8.0             0.628333  \n",
       "1193            8.0             0.625625  \n",
       "1194            8.0             0.625625  \n",
       "1195           15.0             0.505889  \n",
       "1196            6.0             0.394722  "
      ]
     },
     "execution_count": 388,
     "metadata": {},
     "output_type": "execute_result"
    }
   ],
   "source": [
    "# Output the last ten rows\n",
    "prod.tail(10)"
   ]
  },
  {
   "cell_type": "code",
   "execution_count": 389,
   "metadata": {},
   "outputs": [
    {
     "name": "stdout",
     "output_type": "stream",
     "text": [
      "<class 'pandas.core.frame.DataFrame'>\n",
      "RangeIndex: 1197 entries, 0 to 1196\n",
      "Data columns (total 14 columns):\n",
      " #   Column                 Non-Null Count  Dtype  \n",
      "---  ------                 --------------  -----  \n",
      " 0   date                   1197 non-null   object \n",
      " 1   quarter                1197 non-null   object \n",
      " 2   department             1197 non-null   object \n",
      " 3   team                   1197 non-null   int64  \n",
      " 4   targeted_productivity  1197 non-null   float64\n",
      " 5   smv                    1197 non-null   float64\n",
      " 6   wip                    691 non-null    float64\n",
      " 7   over_time              1197 non-null   int64  \n",
      " 8   incentive              1197 non-null   int64  \n",
      " 9   idle_time              1197 non-null   float64\n",
      " 10  idle_men               1197 non-null   int64  \n",
      " 11  no_of_style_change     1197 non-null   int64  \n",
      " 12  no_of_workers          1197 non-null   float64\n",
      " 13  actual_productivity    1197 non-null   float64\n",
      "dtypes: float64(6), int64(5), object(3)\n",
      "memory usage: 131.0+ KB\n"
     ]
    }
   ],
   "source": [
    "# Print the data set overview (dimensions, variable names, data types, null values)\n",
    "prod.info()"
   ]
  },
  {
   "cell_type": "markdown",
   "metadata": {},
   "source": [
    "### Feature engineering with dates"
   ]
  },
  {
   "cell_type": "markdown",
   "metadata": {},
   "source": [
    "One of the features in our data set provides date information. In this format, the feature can be quite useless, but there are several things that we can do to extract useful information from it relating to worker productivity. To start, we want to convert the feature entries into `datetime` objects. To do this:\n",
    "- Use the `pd.to_datetime()` function to reset the `'date'` column in our data set.\n",
    "> **Note:** In order to get the right format, pass the argument `format = '%m/%d/%Y' `, and have a read [here](https://www.w3schools.com/python/python_datetime.asp) for further information on how to handle datetime objects."
   ]
  },
  {
   "cell_type": "code",
   "execution_count": 390,
   "metadata": {},
   "outputs": [],
   "source": [
    "# Converting 'date' column into datetime \n",
    "prod[\"date\"]= pd.to_datetime(prod[\"date\"], format = '%m/%d/%Y')"
   ]
  },
  {
   "cell_type": "markdown",
   "metadata": {},
   "source": [
    "With our 'date' column in `datetime` format, we can now proceed to extract a number of additional features. Although you can find the full list of `datetime` attributes [here](https://pandas.pydata.org/pandas-docs/version/0.23/api.html#datetimelike-properties), we will focus on extracting the day of the week and the month as separate features. To extract a `datetime` attribute as a feature, we can use the following command:\n",
    "- `data['<new_feature_label>'] = data['date'].dt.<attribute>`\n",
    "\n",
    "Try extracting the attributes `.month` and `.dayofweek` and assigning it to columns with the labels `'month'` and `'day'` respectively:"
   ]
  },
  {
   "cell_type": "code",
   "execution_count": 391,
   "metadata": {},
   "outputs": [],
   "source": [
    "# Creating month and day of the week features\n",
    "prod['month'] = prod['date'].dt.month\n",
    "prod['day'] = prod['date'].dt.day\n",
    "\n"
   ]
  },
  {
   "cell_type": "markdown",
   "metadata": {},
   "source": [
    "Lastly, we want to drop the `'date'` feature from our data set (as this can be hard to encode) and output the first ten rows of our data set and the data set overview to check the new features:"
   ]
  },
  {
   "cell_type": "code",
   "execution_count": 392,
   "metadata": {},
   "outputs": [],
   "source": [
    "# dropping 'date' column\n",
    "prod = prod.drop(columns='date')"
   ]
  },
  {
   "cell_type": "code",
   "execution_count": 393,
   "metadata": {},
   "outputs": [
    {
     "data": {
      "text/html": [
       "<div>\n",
       "<style scoped>\n",
       "    .dataframe tbody tr th:only-of-type {\n",
       "        vertical-align: middle;\n",
       "    }\n",
       "\n",
       "    .dataframe tbody tr th {\n",
       "        vertical-align: top;\n",
       "    }\n",
       "\n",
       "    .dataframe thead th {\n",
       "        text-align: right;\n",
       "    }\n",
       "</style>\n",
       "<table border=\"1\" class=\"dataframe\">\n",
       "  <thead>\n",
       "    <tr style=\"text-align: right;\">\n",
       "      <th></th>\n",
       "      <th>quarter</th>\n",
       "      <th>department</th>\n",
       "      <th>team</th>\n",
       "      <th>targeted_productivity</th>\n",
       "      <th>smv</th>\n",
       "      <th>wip</th>\n",
       "      <th>over_time</th>\n",
       "      <th>incentive</th>\n",
       "      <th>idle_time</th>\n",
       "      <th>idle_men</th>\n",
       "      <th>no_of_style_change</th>\n",
       "      <th>no_of_workers</th>\n",
       "      <th>actual_productivity</th>\n",
       "      <th>month</th>\n",
       "      <th>day</th>\n",
       "    </tr>\n",
       "  </thead>\n",
       "  <tbody>\n",
       "    <tr>\n",
       "      <th>0</th>\n",
       "      <td>Quarter1</td>\n",
       "      <td>sweing</td>\n",
       "      <td>8</td>\n",
       "      <td>0.80</td>\n",
       "      <td>26.16</td>\n",
       "      <td>1108.0</td>\n",
       "      <td>7080</td>\n",
       "      <td>98</td>\n",
       "      <td>0.0</td>\n",
       "      <td>0</td>\n",
       "      <td>0</td>\n",
       "      <td>59.0</td>\n",
       "      <td>0.940725</td>\n",
       "      <td>1</td>\n",
       "      <td>1</td>\n",
       "    </tr>\n",
       "    <tr>\n",
       "      <th>1</th>\n",
       "      <td>Quarter1</td>\n",
       "      <td>finishing</td>\n",
       "      <td>1</td>\n",
       "      <td>0.75</td>\n",
       "      <td>3.94</td>\n",
       "      <td>NaN</td>\n",
       "      <td>960</td>\n",
       "      <td>0</td>\n",
       "      <td>0.0</td>\n",
       "      <td>0</td>\n",
       "      <td>0</td>\n",
       "      <td>8.0</td>\n",
       "      <td>0.886500</td>\n",
       "      <td>1</td>\n",
       "      <td>1</td>\n",
       "    </tr>\n",
       "    <tr>\n",
       "      <th>2</th>\n",
       "      <td>Quarter1</td>\n",
       "      <td>sweing</td>\n",
       "      <td>11</td>\n",
       "      <td>0.80</td>\n",
       "      <td>11.41</td>\n",
       "      <td>968.0</td>\n",
       "      <td>3660</td>\n",
       "      <td>50</td>\n",
       "      <td>0.0</td>\n",
       "      <td>0</td>\n",
       "      <td>0</td>\n",
       "      <td>30.5</td>\n",
       "      <td>0.800570</td>\n",
       "      <td>1</td>\n",
       "      <td>1</td>\n",
       "    </tr>\n",
       "    <tr>\n",
       "      <th>3</th>\n",
       "      <td>Quarter1</td>\n",
       "      <td>sweing</td>\n",
       "      <td>12</td>\n",
       "      <td>0.80</td>\n",
       "      <td>11.41</td>\n",
       "      <td>968.0</td>\n",
       "      <td>3660</td>\n",
       "      <td>50</td>\n",
       "      <td>0.0</td>\n",
       "      <td>0</td>\n",
       "      <td>0</td>\n",
       "      <td>30.5</td>\n",
       "      <td>0.800570</td>\n",
       "      <td>1</td>\n",
       "      <td>1</td>\n",
       "    </tr>\n",
       "    <tr>\n",
       "      <th>4</th>\n",
       "      <td>Quarter1</td>\n",
       "      <td>sweing</td>\n",
       "      <td>6</td>\n",
       "      <td>0.80</td>\n",
       "      <td>25.90</td>\n",
       "      <td>1170.0</td>\n",
       "      <td>1920</td>\n",
       "      <td>50</td>\n",
       "      <td>0.0</td>\n",
       "      <td>0</td>\n",
       "      <td>0</td>\n",
       "      <td>56.0</td>\n",
       "      <td>0.800382</td>\n",
       "      <td>1</td>\n",
       "      <td>1</td>\n",
       "    </tr>\n",
       "    <tr>\n",
       "      <th>5</th>\n",
       "      <td>Quarter1</td>\n",
       "      <td>sweing</td>\n",
       "      <td>7</td>\n",
       "      <td>0.80</td>\n",
       "      <td>25.90</td>\n",
       "      <td>984.0</td>\n",
       "      <td>6720</td>\n",
       "      <td>38</td>\n",
       "      <td>0.0</td>\n",
       "      <td>0</td>\n",
       "      <td>0</td>\n",
       "      <td>56.0</td>\n",
       "      <td>0.800125</td>\n",
       "      <td>1</td>\n",
       "      <td>1</td>\n",
       "    </tr>\n",
       "    <tr>\n",
       "      <th>6</th>\n",
       "      <td>Quarter1</td>\n",
       "      <td>finishing</td>\n",
       "      <td>2</td>\n",
       "      <td>0.75</td>\n",
       "      <td>3.94</td>\n",
       "      <td>NaN</td>\n",
       "      <td>960</td>\n",
       "      <td>0</td>\n",
       "      <td>0.0</td>\n",
       "      <td>0</td>\n",
       "      <td>0</td>\n",
       "      <td>8.0</td>\n",
       "      <td>0.755167</td>\n",
       "      <td>1</td>\n",
       "      <td>1</td>\n",
       "    </tr>\n",
       "    <tr>\n",
       "      <th>7</th>\n",
       "      <td>Quarter1</td>\n",
       "      <td>sweing</td>\n",
       "      <td>3</td>\n",
       "      <td>0.75</td>\n",
       "      <td>28.08</td>\n",
       "      <td>795.0</td>\n",
       "      <td>6900</td>\n",
       "      <td>45</td>\n",
       "      <td>0.0</td>\n",
       "      <td>0</td>\n",
       "      <td>0</td>\n",
       "      <td>57.5</td>\n",
       "      <td>0.753683</td>\n",
       "      <td>1</td>\n",
       "      <td>1</td>\n",
       "    </tr>\n",
       "    <tr>\n",
       "      <th>8</th>\n",
       "      <td>Quarter1</td>\n",
       "      <td>sweing</td>\n",
       "      <td>2</td>\n",
       "      <td>0.75</td>\n",
       "      <td>19.87</td>\n",
       "      <td>733.0</td>\n",
       "      <td>6000</td>\n",
       "      <td>34</td>\n",
       "      <td>0.0</td>\n",
       "      <td>0</td>\n",
       "      <td>0</td>\n",
       "      <td>55.0</td>\n",
       "      <td>0.753098</td>\n",
       "      <td>1</td>\n",
       "      <td>1</td>\n",
       "    </tr>\n",
       "    <tr>\n",
       "      <th>9</th>\n",
       "      <td>Quarter1</td>\n",
       "      <td>sweing</td>\n",
       "      <td>1</td>\n",
       "      <td>0.75</td>\n",
       "      <td>28.08</td>\n",
       "      <td>681.0</td>\n",
       "      <td>6900</td>\n",
       "      <td>45</td>\n",
       "      <td>0.0</td>\n",
       "      <td>0</td>\n",
       "      <td>0</td>\n",
       "      <td>57.5</td>\n",
       "      <td>0.750428</td>\n",
       "      <td>1</td>\n",
       "      <td>1</td>\n",
       "    </tr>\n",
       "  </tbody>\n",
       "</table>\n",
       "</div>"
      ],
      "text/plain": [
       "    quarter  department  team  targeted_productivity    smv     wip  \\\n",
       "0  Quarter1      sweing     8                   0.80  26.16  1108.0   \n",
       "1  Quarter1  finishing      1                   0.75   3.94     NaN   \n",
       "2  Quarter1      sweing    11                   0.80  11.41   968.0   \n",
       "3  Quarter1      sweing    12                   0.80  11.41   968.0   \n",
       "4  Quarter1      sweing     6                   0.80  25.90  1170.0   \n",
       "5  Quarter1      sweing     7                   0.80  25.90   984.0   \n",
       "6  Quarter1  finishing      2                   0.75   3.94     NaN   \n",
       "7  Quarter1      sweing     3                   0.75  28.08   795.0   \n",
       "8  Quarter1      sweing     2                   0.75  19.87   733.0   \n",
       "9  Quarter1      sweing     1                   0.75  28.08   681.0   \n",
       "\n",
       "   over_time  incentive  idle_time  idle_men  no_of_style_change  \\\n",
       "0       7080         98        0.0         0                   0   \n",
       "1        960          0        0.0         0                   0   \n",
       "2       3660         50        0.0         0                   0   \n",
       "3       3660         50        0.0         0                   0   \n",
       "4       1920         50        0.0         0                   0   \n",
       "5       6720         38        0.0         0                   0   \n",
       "6        960          0        0.0         0                   0   \n",
       "7       6900         45        0.0         0                   0   \n",
       "8       6000         34        0.0         0                   0   \n",
       "9       6900         45        0.0         0                   0   \n",
       "\n",
       "   no_of_workers  actual_productivity  month  day  \n",
       "0           59.0             0.940725      1    1  \n",
       "1            8.0             0.886500      1    1  \n",
       "2           30.5             0.800570      1    1  \n",
       "3           30.5             0.800570      1    1  \n",
       "4           56.0             0.800382      1    1  \n",
       "5           56.0             0.800125      1    1  \n",
       "6            8.0             0.755167      1    1  \n",
       "7           57.5             0.753683      1    1  \n",
       "8           55.0             0.753098      1    1  \n",
       "9           57.5             0.750428      1    1  "
      ]
     },
     "execution_count": 393,
     "metadata": {},
     "output_type": "execute_result"
    }
   ],
   "source": [
    "# Output the first ten rows\n",
    "prod.head(10)\n"
   ]
  },
  {
   "cell_type": "code",
   "execution_count": 394,
   "metadata": {},
   "outputs": [
    {
     "name": "stdout",
     "output_type": "stream",
     "text": [
      "<class 'pandas.core.frame.DataFrame'>\n",
      "RangeIndex: 1197 entries, 0 to 1196\n",
      "Data columns (total 15 columns):\n",
      " #   Column                 Non-Null Count  Dtype  \n",
      "---  ------                 --------------  -----  \n",
      " 0   quarter                1197 non-null   object \n",
      " 1   department             1197 non-null   object \n",
      " 2   team                   1197 non-null   int64  \n",
      " 3   targeted_productivity  1197 non-null   float64\n",
      " 4   smv                    1197 non-null   float64\n",
      " 5   wip                    691 non-null    float64\n",
      " 6   over_time              1197 non-null   int64  \n",
      " 7   incentive              1197 non-null   int64  \n",
      " 8   idle_time              1197 non-null   float64\n",
      " 9   idle_men               1197 non-null   int64  \n",
      " 10  no_of_style_change     1197 non-null   int64  \n",
      " 11  no_of_workers          1197 non-null   float64\n",
      " 12  actual_productivity    1197 non-null   float64\n",
      " 13  month                  1197 non-null   int64  \n",
      " 14  day                    1197 non-null   int64  \n",
      "dtypes: float64(6), int64(7), object(2)\n",
      "memory usage: 140.4+ KB\n"
     ]
    }
   ],
   "source": [
    "# Print the data set overview (dimensions, variable names, data types, null values)\n",
    "prod.info()"
   ]
  },
  {
   "cell_type": "markdown",
   "metadata": {},
   "source": [
    "### Dummy encoding"
   ]
  },
  {
   "cell_type": "markdown",
   "metadata": {},
   "source": [
    "Now that we've extracted some new features from our date data, we want to encode all our features so that they're ready for machine learning modeling. This includes encoding all of our categorical features as 'dummy variables'. Whilst this may seem easy at first sight, check the unique values (using `.unique()`) for the following features: `'team'`, `'month'`, `'day'`. Do these seem like continuous or categorical variables to you?"
   ]
  },
  {
   "cell_type": "code",
   "execution_count": 395,
   "metadata": {},
   "outputs": [
    {
     "data": {
      "text/plain": [
       "array([ 8,  1, 11, 12,  6,  7,  2,  3,  9, 10,  5,  4], dtype=int64)"
      ]
     },
     "execution_count": 395,
     "metadata": {},
     "output_type": "execute_result"
    }
   ],
   "source": [
    "# Checking unique values for 'team'\n",
    "pd.unique(prod['team'])"
   ]
  },
  {
   "cell_type": "code",
   "execution_count": 396,
   "metadata": {},
   "outputs": [
    {
     "data": {
      "text/plain": [
       "array([1, 2, 3], dtype=int64)"
      ]
     },
     "execution_count": 396,
     "metadata": {},
     "output_type": "execute_result"
    }
   ],
   "source": [
    "# Checking unique values for 'month' \n",
    "pd.unique(prod['month'])"
   ]
  },
  {
   "cell_type": "code",
   "execution_count": 397,
   "metadata": {},
   "outputs": [
    {
     "data": {
      "text/plain": [
       "array([ 1,  3,  4,  5,  6,  7,  8, 10, 11, 12, 13, 14, 15, 17, 18, 19, 20,\n",
       "       21, 22, 24, 25, 26, 27, 28, 29, 31,  2,  9, 16, 23], dtype=int64)"
      ]
     },
     "execution_count": 397,
     "metadata": {},
     "output_type": "execute_result"
    }
   ],
   "source": [
    "# Checking unique values for 'day' \n",
    "pd.unique(prod['day'])"
   ]
  },
  {
   "cell_type": "markdown",
   "metadata": {},
   "source": [
    "As we can see, these features, although of numerical data type, fall much better under the definition of categorical variables. Had we not noticed, they would not get dummy encoded by the `pd.get_dummies()` function, leading to the incorrect handling of our data. Thus, its important to always check what kind of features we have, irrespective if data type. We can get around this encoding problem by casting these features as `str` types and then proceeding with the dummy encoding. In our data set:\n",
    "- Cast the features `'team'`, `'month'`, and `'day'` as strings.\n",
    "- Use the `pd.get_dummies()` function to dummy encode categorical variables (Hint: remember to drop one dummy pre categorical feature using the `drop_first` parameter)."
   ]
  },
  {
   "cell_type": "code",
   "execution_count": 398,
   "metadata": {},
   "outputs": [],
   "source": [
    "# Cast 'team', 'month', and 'day' features as str\n",
    "prod['team'] = prod['team'].astype(str)\n",
    "prod['month'] = prod['month'].astype(str)\n",
    "prod['day'] = prod['day'].astype(str)"
   ]
  },
  {
   "cell_type": "code",
   "execution_count": 400,
   "metadata": {},
   "outputs": [],
   "source": [
    "# Generate dummy encoding\n",
    "numeric = prod.select_dtypes(exclude='object')\n",
    "text = prod.select_dtypes(include = 'object')\n",
    "\n",
    "text_enc = pd.get_dummies(text, drop_first = True)\n",
    "\n",
    "prod = pd.concat([numeric, text_enc], axis = 1)"
   ]
  },
  {
   "cell_type": "code",
   "execution_count": 401,
   "metadata": {},
   "outputs": [
    {
     "name": "stdout",
     "output_type": "stream",
     "text": [
      "<class 'pandas.core.frame.DataFrame'>\n",
      "RangeIndex: 1197 entries, 0 to 1196\n",
      "Data columns (total 58 columns):\n",
      " #   Column                 Non-Null Count  Dtype  \n",
      "---  ------                 --------------  -----  \n",
      " 0   targeted_productivity  1197 non-null   float64\n",
      " 1   smv                    1197 non-null   float64\n",
      " 2   wip                    691 non-null    float64\n",
      " 3   over_time              1197 non-null   int64  \n",
      " 4   incentive              1197 non-null   int64  \n",
      " 5   idle_time              1197 non-null   float64\n",
      " 6   idle_men               1197 non-null   int64  \n",
      " 7   no_of_style_change     1197 non-null   int64  \n",
      " 8   no_of_workers          1197 non-null   float64\n",
      " 9   actual_productivity    1197 non-null   float64\n",
      " 10  quarter_Quarter2       1197 non-null   uint8  \n",
      " 11  quarter_Quarter3       1197 non-null   uint8  \n",
      " 12  quarter_Quarter4       1197 non-null   uint8  \n",
      " 13  quarter_Quarter5       1197 non-null   uint8  \n",
      " 14  department_finishing   1197 non-null   uint8  \n",
      " 15  department_sweing      1197 non-null   uint8  \n",
      " 16  team_10                1197 non-null   uint8  \n",
      " 17  team_11                1197 non-null   uint8  \n",
      " 18  team_12                1197 non-null   uint8  \n",
      " 19  team_2                 1197 non-null   uint8  \n",
      " 20  team_3                 1197 non-null   uint8  \n",
      " 21  team_4                 1197 non-null   uint8  \n",
      " 22  team_5                 1197 non-null   uint8  \n",
      " 23  team_6                 1197 non-null   uint8  \n",
      " 24  team_7                 1197 non-null   uint8  \n",
      " 25  team_8                 1197 non-null   uint8  \n",
      " 26  team_9                 1197 non-null   uint8  \n",
      " 27  month_2                1197 non-null   uint8  \n",
      " 28  month_3                1197 non-null   uint8  \n",
      " 29  day_10                 1197 non-null   uint8  \n",
      " 30  day_11                 1197 non-null   uint8  \n",
      " 31  day_12                 1197 non-null   uint8  \n",
      " 32  day_13                 1197 non-null   uint8  \n",
      " 33  day_14                 1197 non-null   uint8  \n",
      " 34  day_15                 1197 non-null   uint8  \n",
      " 35  day_16                 1197 non-null   uint8  \n",
      " 36  day_17                 1197 non-null   uint8  \n",
      " 37  day_18                 1197 non-null   uint8  \n",
      " 38  day_19                 1197 non-null   uint8  \n",
      " 39  day_2                  1197 non-null   uint8  \n",
      " 40  day_20                 1197 non-null   uint8  \n",
      " 41  day_21                 1197 non-null   uint8  \n",
      " 42  day_22                 1197 non-null   uint8  \n",
      " 43  day_23                 1197 non-null   uint8  \n",
      " 44  day_24                 1197 non-null   uint8  \n",
      " 45  day_25                 1197 non-null   uint8  \n",
      " 46  day_26                 1197 non-null   uint8  \n",
      " 47  day_27                 1197 non-null   uint8  \n",
      " 48  day_28                 1197 non-null   uint8  \n",
      " 49  day_29                 1197 non-null   uint8  \n",
      " 50  day_3                  1197 non-null   uint8  \n",
      " 51  day_31                 1197 non-null   uint8  \n",
      " 52  day_4                  1197 non-null   uint8  \n",
      " 53  day_5                  1197 non-null   uint8  \n",
      " 54  day_6                  1197 non-null   uint8  \n",
      " 55  day_7                  1197 non-null   uint8  \n",
      " 56  day_8                  1197 non-null   uint8  \n",
      " 57  day_9                  1197 non-null   uint8  \n",
      "dtypes: float64(6), int64(4), uint8(48)\n",
      "memory usage: 149.8 KB\n"
     ]
    },
    {
     "data": {
      "text/html": [
       "<div>\n",
       "<style scoped>\n",
       "    .dataframe tbody tr th:only-of-type {\n",
       "        vertical-align: middle;\n",
       "    }\n",
       "\n",
       "    .dataframe tbody tr th {\n",
       "        vertical-align: top;\n",
       "    }\n",
       "\n",
       "    .dataframe thead th {\n",
       "        text-align: right;\n",
       "    }\n",
       "</style>\n",
       "<table border=\"1\" class=\"dataframe\">\n",
       "  <thead>\n",
       "    <tr style=\"text-align: right;\">\n",
       "      <th></th>\n",
       "      <th>targeted_productivity</th>\n",
       "      <th>smv</th>\n",
       "      <th>wip</th>\n",
       "      <th>over_time</th>\n",
       "      <th>incentive</th>\n",
       "      <th>idle_time</th>\n",
       "      <th>idle_men</th>\n",
       "      <th>no_of_style_change</th>\n",
       "      <th>no_of_workers</th>\n",
       "      <th>actual_productivity</th>\n",
       "      <th>...</th>\n",
       "      <th>day_28</th>\n",
       "      <th>day_29</th>\n",
       "      <th>day_3</th>\n",
       "      <th>day_31</th>\n",
       "      <th>day_4</th>\n",
       "      <th>day_5</th>\n",
       "      <th>day_6</th>\n",
       "      <th>day_7</th>\n",
       "      <th>day_8</th>\n",
       "      <th>day_9</th>\n",
       "    </tr>\n",
       "  </thead>\n",
       "  <tbody>\n",
       "    <tr>\n",
       "      <th>0</th>\n",
       "      <td>0.80</td>\n",
       "      <td>26.16</td>\n",
       "      <td>1108.0</td>\n",
       "      <td>7080</td>\n",
       "      <td>98</td>\n",
       "      <td>0.0</td>\n",
       "      <td>0</td>\n",
       "      <td>0</td>\n",
       "      <td>59.0</td>\n",
       "      <td>0.940725</td>\n",
       "      <td>...</td>\n",
       "      <td>0</td>\n",
       "      <td>0</td>\n",
       "      <td>0</td>\n",
       "      <td>0</td>\n",
       "      <td>0</td>\n",
       "      <td>0</td>\n",
       "      <td>0</td>\n",
       "      <td>0</td>\n",
       "      <td>0</td>\n",
       "      <td>0</td>\n",
       "    </tr>\n",
       "    <tr>\n",
       "      <th>1</th>\n",
       "      <td>0.75</td>\n",
       "      <td>3.94</td>\n",
       "      <td>NaN</td>\n",
       "      <td>960</td>\n",
       "      <td>0</td>\n",
       "      <td>0.0</td>\n",
       "      <td>0</td>\n",
       "      <td>0</td>\n",
       "      <td>8.0</td>\n",
       "      <td>0.886500</td>\n",
       "      <td>...</td>\n",
       "      <td>0</td>\n",
       "      <td>0</td>\n",
       "      <td>0</td>\n",
       "      <td>0</td>\n",
       "      <td>0</td>\n",
       "      <td>0</td>\n",
       "      <td>0</td>\n",
       "      <td>0</td>\n",
       "      <td>0</td>\n",
       "      <td>0</td>\n",
       "    </tr>\n",
       "    <tr>\n",
       "      <th>2</th>\n",
       "      <td>0.80</td>\n",
       "      <td>11.41</td>\n",
       "      <td>968.0</td>\n",
       "      <td>3660</td>\n",
       "      <td>50</td>\n",
       "      <td>0.0</td>\n",
       "      <td>0</td>\n",
       "      <td>0</td>\n",
       "      <td>30.5</td>\n",
       "      <td>0.800570</td>\n",
       "      <td>...</td>\n",
       "      <td>0</td>\n",
       "      <td>0</td>\n",
       "      <td>0</td>\n",
       "      <td>0</td>\n",
       "      <td>0</td>\n",
       "      <td>0</td>\n",
       "      <td>0</td>\n",
       "      <td>0</td>\n",
       "      <td>0</td>\n",
       "      <td>0</td>\n",
       "    </tr>\n",
       "    <tr>\n",
       "      <th>3</th>\n",
       "      <td>0.80</td>\n",
       "      <td>11.41</td>\n",
       "      <td>968.0</td>\n",
       "      <td>3660</td>\n",
       "      <td>50</td>\n",
       "      <td>0.0</td>\n",
       "      <td>0</td>\n",
       "      <td>0</td>\n",
       "      <td>30.5</td>\n",
       "      <td>0.800570</td>\n",
       "      <td>...</td>\n",
       "      <td>0</td>\n",
       "      <td>0</td>\n",
       "      <td>0</td>\n",
       "      <td>0</td>\n",
       "      <td>0</td>\n",
       "      <td>0</td>\n",
       "      <td>0</td>\n",
       "      <td>0</td>\n",
       "      <td>0</td>\n",
       "      <td>0</td>\n",
       "    </tr>\n",
       "    <tr>\n",
       "      <th>4</th>\n",
       "      <td>0.80</td>\n",
       "      <td>25.90</td>\n",
       "      <td>1170.0</td>\n",
       "      <td>1920</td>\n",
       "      <td>50</td>\n",
       "      <td>0.0</td>\n",
       "      <td>0</td>\n",
       "      <td>0</td>\n",
       "      <td>56.0</td>\n",
       "      <td>0.800382</td>\n",
       "      <td>...</td>\n",
       "      <td>0</td>\n",
       "      <td>0</td>\n",
       "      <td>0</td>\n",
       "      <td>0</td>\n",
       "      <td>0</td>\n",
       "      <td>0</td>\n",
       "      <td>0</td>\n",
       "      <td>0</td>\n",
       "      <td>0</td>\n",
       "      <td>0</td>\n",
       "    </tr>\n",
       "    <tr>\n",
       "      <th>...</th>\n",
       "      <td>...</td>\n",
       "      <td>...</td>\n",
       "      <td>...</td>\n",
       "      <td>...</td>\n",
       "      <td>...</td>\n",
       "      <td>...</td>\n",
       "      <td>...</td>\n",
       "      <td>...</td>\n",
       "      <td>...</td>\n",
       "      <td>...</td>\n",
       "      <td>...</td>\n",
       "      <td>...</td>\n",
       "      <td>...</td>\n",
       "      <td>...</td>\n",
       "      <td>...</td>\n",
       "      <td>...</td>\n",
       "      <td>...</td>\n",
       "      <td>...</td>\n",
       "      <td>...</td>\n",
       "      <td>...</td>\n",
       "      <td>...</td>\n",
       "    </tr>\n",
       "    <tr>\n",
       "      <th>1192</th>\n",
       "      <td>0.75</td>\n",
       "      <td>2.90</td>\n",
       "      <td>NaN</td>\n",
       "      <td>960</td>\n",
       "      <td>0</td>\n",
       "      <td>0.0</td>\n",
       "      <td>0</td>\n",
       "      <td>0</td>\n",
       "      <td>8.0</td>\n",
       "      <td>0.628333</td>\n",
       "      <td>...</td>\n",
       "      <td>0</td>\n",
       "      <td>0</td>\n",
       "      <td>0</td>\n",
       "      <td>0</td>\n",
       "      <td>0</td>\n",
       "      <td>0</td>\n",
       "      <td>0</td>\n",
       "      <td>0</td>\n",
       "      <td>0</td>\n",
       "      <td>0</td>\n",
       "    </tr>\n",
       "    <tr>\n",
       "      <th>1193</th>\n",
       "      <td>0.70</td>\n",
       "      <td>3.90</td>\n",
       "      <td>NaN</td>\n",
       "      <td>960</td>\n",
       "      <td>0</td>\n",
       "      <td>0.0</td>\n",
       "      <td>0</td>\n",
       "      <td>0</td>\n",
       "      <td>8.0</td>\n",
       "      <td>0.625625</td>\n",
       "      <td>...</td>\n",
       "      <td>0</td>\n",
       "      <td>0</td>\n",
       "      <td>0</td>\n",
       "      <td>0</td>\n",
       "      <td>0</td>\n",
       "      <td>0</td>\n",
       "      <td>0</td>\n",
       "      <td>0</td>\n",
       "      <td>0</td>\n",
       "      <td>0</td>\n",
       "    </tr>\n",
       "    <tr>\n",
       "      <th>1194</th>\n",
       "      <td>0.65</td>\n",
       "      <td>3.90</td>\n",
       "      <td>NaN</td>\n",
       "      <td>960</td>\n",
       "      <td>0</td>\n",
       "      <td>0.0</td>\n",
       "      <td>0</td>\n",
       "      <td>0</td>\n",
       "      <td>8.0</td>\n",
       "      <td>0.625625</td>\n",
       "      <td>...</td>\n",
       "      <td>0</td>\n",
       "      <td>0</td>\n",
       "      <td>0</td>\n",
       "      <td>0</td>\n",
       "      <td>0</td>\n",
       "      <td>0</td>\n",
       "      <td>0</td>\n",
       "      <td>0</td>\n",
       "      <td>0</td>\n",
       "      <td>0</td>\n",
       "    </tr>\n",
       "    <tr>\n",
       "      <th>1195</th>\n",
       "      <td>0.75</td>\n",
       "      <td>2.90</td>\n",
       "      <td>NaN</td>\n",
       "      <td>1800</td>\n",
       "      <td>0</td>\n",
       "      <td>0.0</td>\n",
       "      <td>0</td>\n",
       "      <td>0</td>\n",
       "      <td>15.0</td>\n",
       "      <td>0.505889</td>\n",
       "      <td>...</td>\n",
       "      <td>0</td>\n",
       "      <td>0</td>\n",
       "      <td>0</td>\n",
       "      <td>0</td>\n",
       "      <td>0</td>\n",
       "      <td>0</td>\n",
       "      <td>0</td>\n",
       "      <td>0</td>\n",
       "      <td>0</td>\n",
       "      <td>0</td>\n",
       "    </tr>\n",
       "    <tr>\n",
       "      <th>1196</th>\n",
       "      <td>0.70</td>\n",
       "      <td>2.90</td>\n",
       "      <td>NaN</td>\n",
       "      <td>720</td>\n",
       "      <td>0</td>\n",
       "      <td>0.0</td>\n",
       "      <td>0</td>\n",
       "      <td>0</td>\n",
       "      <td>6.0</td>\n",
       "      <td>0.394722</td>\n",
       "      <td>...</td>\n",
       "      <td>0</td>\n",
       "      <td>0</td>\n",
       "      <td>0</td>\n",
       "      <td>0</td>\n",
       "      <td>0</td>\n",
       "      <td>0</td>\n",
       "      <td>0</td>\n",
       "      <td>0</td>\n",
       "      <td>0</td>\n",
       "      <td>0</td>\n",
       "    </tr>\n",
       "  </tbody>\n",
       "</table>\n",
       "<p>1197 rows × 58 columns</p>\n",
       "</div>"
      ],
      "text/plain": [
       "      targeted_productivity    smv     wip  over_time  incentive  idle_time  \\\n",
       "0                      0.80  26.16  1108.0       7080         98        0.0   \n",
       "1                      0.75   3.94     NaN        960          0        0.0   \n",
       "2                      0.80  11.41   968.0       3660         50        0.0   \n",
       "3                      0.80  11.41   968.0       3660         50        0.0   \n",
       "4                      0.80  25.90  1170.0       1920         50        0.0   \n",
       "...                     ...    ...     ...        ...        ...        ...   \n",
       "1192                   0.75   2.90     NaN        960          0        0.0   \n",
       "1193                   0.70   3.90     NaN        960          0        0.0   \n",
       "1194                   0.65   3.90     NaN        960          0        0.0   \n",
       "1195                   0.75   2.90     NaN       1800          0        0.0   \n",
       "1196                   0.70   2.90     NaN        720          0        0.0   \n",
       "\n",
       "      idle_men  no_of_style_change  no_of_workers  actual_productivity  ...  \\\n",
       "0            0                   0           59.0             0.940725  ...   \n",
       "1            0                   0            8.0             0.886500  ...   \n",
       "2            0                   0           30.5             0.800570  ...   \n",
       "3            0                   0           30.5             0.800570  ...   \n",
       "4            0                   0           56.0             0.800382  ...   \n",
       "...        ...                 ...            ...                  ...  ...   \n",
       "1192         0                   0            8.0             0.628333  ...   \n",
       "1193         0                   0            8.0             0.625625  ...   \n",
       "1194         0                   0            8.0             0.625625  ...   \n",
       "1195         0                   0           15.0             0.505889  ...   \n",
       "1196         0                   0            6.0             0.394722  ...   \n",
       "\n",
       "      day_28  day_29  day_3  day_31  day_4  day_5  day_6  day_7  day_8  day_9  \n",
       "0          0       0      0       0      0      0      0      0      0      0  \n",
       "1          0       0      0       0      0      0      0      0      0      0  \n",
       "2          0       0      0       0      0      0      0      0      0      0  \n",
       "3          0       0      0       0      0      0      0      0      0      0  \n",
       "4          0       0      0       0      0      0      0      0      0      0  \n",
       "...      ...     ...    ...     ...    ...    ...    ...    ...    ...    ...  \n",
       "1192       0       0      0       0      0      0      0      0      0      0  \n",
       "1193       0       0      0       0      0      0      0      0      0      0  \n",
       "1194       0       0      0       0      0      0      0      0      0      0  \n",
       "1195       0       0      0       0      0      0      0      0      0      0  \n",
       "1196       0       0      0       0      0      0      0      0      0      0  \n",
       "\n",
       "[1197 rows x 58 columns]"
      ]
     },
     "execution_count": 401,
     "metadata": {},
     "output_type": "execute_result"
    }
   ],
   "source": [
    "# Print data set overview\n",
    "prod.info()\n",
    "prod"
   ]
  },
  {
   "cell_type": "markdown",
   "metadata": {},
   "source": [
    "### Our ML setup\n",
    "Now that we have our variables encoded we want to set up our data in the usual machine learning configuration: a training and a test set, each with a feature matrix and a target vector. To start:\n",
    "\n",
    "- Import the `train_test_split()` function from scikit learn\n",
    "- Declare a target vector y (corresponding to the `actual_productivity` column in the data set)\n",
    "- Declare a feature matrix X (including all columns except `actual_productivity`)\n",
    "- Create a training and test set\n",
    "- Print the dimensions of X and y in both the training and test set."
   ]
  },
  {
   "cell_type": "code",
   "execution_count": 402,
   "metadata": {},
   "outputs": [],
   "source": [
    "# Importing train-test split function\n",
    "from sklearn.model_selection import train_test_split"
   ]
  },
  {
   "cell_type": "code",
   "execution_count": 403,
   "metadata": {},
   "outputs": [],
   "source": [
    "# Declare the training vector y which has the column label 'actual_productivity'\n",
    "y = prod['actual_productivity']"
   ]
  },
  {
   "cell_type": "code",
   "execution_count": 404,
   "metadata": {},
   "outputs": [
    {
     "name": "stdout",
     "output_type": "stream",
     "text": [
      "<class 'pandas.core.frame.DataFrame'>\n",
      "RangeIndex: 1197 entries, 0 to 1196\n",
      "Data columns (total 57 columns):\n",
      " #   Column                 Non-Null Count  Dtype  \n",
      "---  ------                 --------------  -----  \n",
      " 0   targeted_productivity  1197 non-null   float64\n",
      " 1   smv                    1197 non-null   float64\n",
      " 2   wip                    691 non-null    float64\n",
      " 3   over_time              1197 non-null   int64  \n",
      " 4   incentive              1197 non-null   int64  \n",
      " 5   idle_time              1197 non-null   float64\n",
      " 6   idle_men               1197 non-null   int64  \n",
      " 7   no_of_style_change     1197 non-null   int64  \n",
      " 8   no_of_workers          1197 non-null   float64\n",
      " 9   quarter_Quarter2       1197 non-null   uint8  \n",
      " 10  quarter_Quarter3       1197 non-null   uint8  \n",
      " 11  quarter_Quarter4       1197 non-null   uint8  \n",
      " 12  quarter_Quarter5       1197 non-null   uint8  \n",
      " 13  department_finishing   1197 non-null   uint8  \n",
      " 14  department_sweing      1197 non-null   uint8  \n",
      " 15  team_10                1197 non-null   uint8  \n",
      " 16  team_11                1197 non-null   uint8  \n",
      " 17  team_12                1197 non-null   uint8  \n",
      " 18  team_2                 1197 non-null   uint8  \n",
      " 19  team_3                 1197 non-null   uint8  \n",
      " 20  team_4                 1197 non-null   uint8  \n",
      " 21  team_5                 1197 non-null   uint8  \n",
      " 22  team_6                 1197 non-null   uint8  \n",
      " 23  team_7                 1197 non-null   uint8  \n",
      " 24  team_8                 1197 non-null   uint8  \n",
      " 25  team_9                 1197 non-null   uint8  \n",
      " 26  month_2                1197 non-null   uint8  \n",
      " 27  month_3                1197 non-null   uint8  \n",
      " 28  day_10                 1197 non-null   uint8  \n",
      " 29  day_11                 1197 non-null   uint8  \n",
      " 30  day_12                 1197 non-null   uint8  \n",
      " 31  day_13                 1197 non-null   uint8  \n",
      " 32  day_14                 1197 non-null   uint8  \n",
      " 33  day_15                 1197 non-null   uint8  \n",
      " 34  day_16                 1197 non-null   uint8  \n",
      " 35  day_17                 1197 non-null   uint8  \n",
      " 36  day_18                 1197 non-null   uint8  \n",
      " 37  day_19                 1197 non-null   uint8  \n",
      " 38  day_2                  1197 non-null   uint8  \n",
      " 39  day_20                 1197 non-null   uint8  \n",
      " 40  day_21                 1197 non-null   uint8  \n",
      " 41  day_22                 1197 non-null   uint8  \n",
      " 42  day_23                 1197 non-null   uint8  \n",
      " 43  day_24                 1197 non-null   uint8  \n",
      " 44  day_25                 1197 non-null   uint8  \n",
      " 45  day_26                 1197 non-null   uint8  \n",
      " 46  day_27                 1197 non-null   uint8  \n",
      " 47  day_28                 1197 non-null   uint8  \n",
      " 48  day_29                 1197 non-null   uint8  \n",
      " 49  day_3                  1197 non-null   uint8  \n",
      " 50  day_31                 1197 non-null   uint8  \n",
      " 51  day_4                  1197 non-null   uint8  \n",
      " 52  day_5                  1197 non-null   uint8  \n",
      " 53  day_6                  1197 non-null   uint8  \n",
      " 54  day_7                  1197 non-null   uint8  \n",
      " 55  day_8                  1197 non-null   uint8  \n",
      " 56  day_9                  1197 non-null   uint8  \n",
      "dtypes: float64(5), int64(4), uint8(48)\n",
      "memory usage: 140.4 KB\n"
     ]
    }
   ],
   "source": [
    "# Declare feature matrix \n",
    "X = prod.drop('actual_productivity', axis = 1)\n",
    "\n",
    "X.info()"
   ]
  },
  {
   "cell_type": "code",
   "execution_count": 405,
   "metadata": {},
   "outputs": [],
   "source": [
    "# Create a train-test- split using random state 253, test_size 30%\n",
    "X_train, X_test, y_train, y_test = train_test_split(X,y, test_size = 0.3, random_state = 253)"
   ]
  },
  {
   "cell_type": "code",
   "execution_count": 406,
   "metadata": {},
   "outputs": [
    {
     "name": "stdout",
     "output_type": "stream",
     "text": [
      "X_train dimensions:  (837, 57)\n",
      "y_train dimensions:  (837,)\n"
     ]
    }
   ],
   "source": [
    "# Print dimensions of the training set\n",
    "print('X_train dimensions: ', X_train.shape)\n",
    "print('y_train dimensions: ', y_train.shape)"
   ]
  },
  {
   "cell_type": "code",
   "execution_count": 407,
   "metadata": {},
   "outputs": [
    {
     "name": "stdout",
     "output_type": "stream",
     "text": [
      "X_test dimensions:  (360, 57)\n",
      "y_test dimensions:  (360,)\n"
     ]
    }
   ],
   "source": [
    "# Print dimensions of the test set\n",
    "print('X_test dimensions: ', X_test.shape)\n",
    "print('y_test dimensions: ', y_test.shape)"
   ]
  },
  {
   "cell_type": "markdown",
   "metadata": {},
   "source": [
    "### Missing value imputation"
   ]
  },
  {
   "cell_type": "markdown",
   "metadata": {},
   "source": [
    "As you probably already noticed, we have several missing values in the `'wip'` column of our data set. This time, however, we will use a more advanced method to impute missing values. More specifically, we will use the K Nearest Neighbors algorithm to impute values that are similar to other nearby samples, which should hopefully give us more accuracy. To do this:\n",
    "- Import the `KNNImputer` class from scikit learn\n",
    "- Create `KNNImputer` transformer, passing `n_neighbors=7` as an argument.\n",
    "- Fit the transformer using `X_train`\n",
    "- Impute missing values by calling the `.transform()` method with `X_train` as an argument. Assign this to a new variable `X_full`."
   ]
  },
  {
   "cell_type": "code",
   "execution_count": 408,
   "metadata": {},
   "outputs": [],
   "source": [
    "# Importing KNNImputer\n",
    "from sklearn.impute import KNNImputer"
   ]
  },
  {
   "cell_type": "code",
   "execution_count": 409,
   "metadata": {},
   "outputs": [],
   "source": [
    "# Creating KNNImputer transformer\n",
    "clf = KNNImputer(n_neighbors = 7)"
   ]
  },
  {
   "cell_type": "code",
   "execution_count": 412,
   "metadata": {},
   "outputs": [
    {
     "ename": "AttributeError",
     "evalue": "'numpy.ndarray' object has no attribute 'info'",
     "output_type": "error",
     "traceback": [
      "\u001b[1;31m---------------------------------------------------------------------------\u001b[0m",
      "\u001b[1;31mAttributeError\u001b[0m                            Traceback (most recent call last)",
      "\u001b[1;32m<ipython-input-412-fc5f7b7f5522>\u001b[0m in \u001b[0;36m<module>\u001b[1;34m\u001b[0m\n\u001b[0;32m      4\u001b[0m \u001b[0mX_full\u001b[0m \u001b[1;33m=\u001b[0m \u001b[0mclf\u001b[0m\u001b[1;33m.\u001b[0m\u001b[0mtransform\u001b[0m\u001b[1;33m(\u001b[0m\u001b[0mX_train\u001b[0m\u001b[1;33m)\u001b[0m\u001b[1;33m\u001b[0m\u001b[1;33m\u001b[0m\u001b[0m\n\u001b[0;32m      5\u001b[0m \u001b[1;33m\u001b[0m\u001b[0m\n\u001b[1;32m----> 6\u001b[1;33m \u001b[0mX_full\u001b[0m\u001b[1;33m.\u001b[0m\u001b[0minfo\u001b[0m\u001b[1;33m(\u001b[0m\u001b[1;33m)\u001b[0m\u001b[1;33m\u001b[0m\u001b[1;33m\u001b[0m\u001b[0m\n\u001b[0m",
      "\u001b[1;31mAttributeError\u001b[0m: 'numpy.ndarray' object has no attribute 'info'"
     ]
    }
   ],
   "source": [
    "# Fitting and transforming training feature matrix using our imputer\n",
    "clf.fit(X_train)\n",
    "\n",
    "X_full = clf.transform(X_train)\n",
    "\n",
    "\n"
   ]
  },
  {
   "cell_type": "markdown",
   "metadata": {},
   "source": [
    "### Pipelines"
   ]
  },
  {
   "cell_type": "markdown",
   "metadata": {},
   "source": [
    "You might've noticed that most machine learning with scikit learn involves:\n",
    "- Instantiating a transformer or model.\n",
    "- Fitting this to our data using `.fit()`.\n",
    "- Transforming or predicting using `.transform()` or `.predict()`.\n",
    "\n",
    "This simple, general process means that we can simplify our ML process using **Pipelines**. A Pipeline allows you to establish a sequence of transformations terminating with *one estimator*. Pipelines can then be treated as any other scikit learn estimator, but each time they perform all of the interim transformation steps in the sequence. This has the benefit of greatly simplifying your code and can also help prevent [data leakage](https://machinelearningmastery.com/data-leakage-machine-learning/). \n",
    "\n",
    "To instantiate a Pipeline you must pass as an argument a list of $n+1$ tuples (where $n$ is the number of transforms) in the form: `[('transformer_1_name', transformer_1), ..., ('estimator_name', estimator)]`.\n",
    "\n",
    "We will now create Pipelines for both an SVM and a Linear Regression model below:\n",
    "- Import the `StandardScaler`, `SVR`, and `LinearRegression` classes from scikit learn.\n",
    "- Import the `Pipeline` class from scikit learn.\n",
    "- For each one of the two models, create a Pipeline with the following transforms (in order): imputation, scaling, estimator."
   ]
  },
  {
   "cell_type": "code",
   "execution_count": 413,
   "metadata": {},
   "outputs": [],
   "source": [
    "# Importing StandardScaler\n",
    "from sklearn.preprocessing import StandardScaler"
   ]
  },
  {
   "cell_type": "code",
   "execution_count": 414,
   "metadata": {},
   "outputs": [],
   "source": [
    "# Importing KNN, SVM, and Linear Regression models \n",
    "from sklearn.svm import SVR\n",
    "from sklearn.linear_model import LinearRegression\n"
   ]
  },
  {
   "cell_type": "code",
   "execution_count": 415,
   "metadata": {},
   "outputs": [],
   "source": [
    "# Importing Pipeline\n",
    "from sklearn.pipeline import Pipeline"
   ]
  },
  {
   "cell_type": "code",
   "execution_count": 416,
   "metadata": {},
   "outputs": [],
   "source": [
    "# Combine these into two Pipelines, one for each model\n",
    "lin_reg_pipe = Pipeline([('Imputation', KNNImputer(n_neighbors=7)), \n",
    "                         ('Scaler', StandardScaler()), \n",
    "                         ('Model', LinearRegression())])\n",
    "\n",
    "\n",
    "svr_pipe = Pipeline([('Imputation', KNNImputer(n_neighbors=7)), \n",
    "                         ('Scaler', StandardScaler()), \n",
    "                         ('Model', SVR())])"
   ]
  },
  {
   "cell_type": "markdown",
   "metadata": {},
   "source": [
    "Now we want to see how well our models stack up! For regression problems, one metric that is often used to assess model performance is the **Root Mean Squared Error (RMSE)**. this is given by:\n",
    "$$\\text{RMSE}=\\sqrt{\\frac{\\sum_{i=1}^n (\\,y_i\\,-\\,y_i^{pred}\\,)^2}{n}}$$\n",
    "\n",
    "We can compare our models by computing the cross-validated RMSE scores:\n",
    "- Import the `cross_val_score()` function from scikit learn.\n",
    "- Calculate the cross-validated scores for each pipeline estimator. \n",
    "- Print the mean score for each pipeline estimator.\n",
    "> **Note:**  Pass `scoring = 'neg_root_mean_squared_error'` as an argument to `cross_val_score()` to ensure that it computes the RMSE for all models."
   ]
  },
  {
   "cell_type": "code",
   "execution_count": 417,
   "metadata": {},
   "outputs": [],
   "source": [
    "from sklearn.model_selection import cross_val_score"
   ]
  },
  {
   "cell_type": "code",
   "execution_count": 423,
   "metadata": {},
   "outputs": [],
   "source": [
    "# Calculate the cross-validated score of these two models\n",
    "lin_reg_score = cross_val_score(lin_reg_pipe, X_full, y_train, scoring = 'neg_root_mean_squared_error').mean()\n",
    "\n",
    "svm_score = cross_val_score(svr_pipe, X_full, y_train, scoring = 'neg_root_mean_squared_error').mean()"
   ]
  },
  {
   "cell_type": "code",
   "execution_count": 421,
   "metadata": {},
   "outputs": [
    {
     "name": "stdout",
     "output_type": "stream",
     "text": [
      "Linear Regression RMSE Score:\n",
      "0.20848950016032036\n"
     ]
    }
   ],
   "source": [
    "print('Linear Regression RMSE Score:')\n",
    "print((-1)*lin_reg_score)"
   ]
  },
  {
   "cell_type": "code",
   "execution_count": 424,
   "metadata": {},
   "outputs": [
    {
     "name": "stdout",
     "output_type": "stream",
     "text": [
      "SVM RMSE Score:\n",
      "0.16081925444246653\n"
     ]
    }
   ],
   "source": [
    "print('SVM RMSE Score:')\n",
    "print((-1)*svm_score)"
   ]
  },
  {
   "cell_type": "markdown",
   "metadata": {},
   "source": [
    "### Regularization"
   ]
  },
  {
   "cell_type": "markdown",
   "metadata": {},
   "source": [
    "We will now learn about a more advanced technique called **regularization** that can help us build better regression models. Regularization is an adaptation on the standard linear regression and essentially works by placing a penalty on the size of the regression coefficients when fitting. This is because large coefficients tend to overfit our model to the training data, so by shrinking them we enable the model to generalize better and improve performance on unseen data. A more detailed description of regularization can be found [here](https://towardsdatascience.com/regularization-in-machine-learning-76441ddcf99a). \n",
    "\n",
    "We will focus on one particular kind of regularized regression model known as **Ridge regression**. One key aspect of ridge regression is the `alpha` hyperparameter, which is used to denote the strength of the penalty on coefficient size. A larger value of`alpha` will seek to shrink coefficients more and viseversa. Finding the optimal `alpha` value can be cumbersome, but luckily we can use the hyperparameter optimization techniques learned in Session Five to do this. \n",
    "\n",
    "Lets try out using a Ridge model for our productivity problem:\n",
    "- Import the `Ridge` and `GridSearchCV` classes from scikit learn\n",
    "- Create a Pipeline with the following transforms (in order): imputation, scaling, Ridge estimator.\n",
    "- Create a `GridSearchCV` object by passing our Ridge pipeline, and the dictionary `params`.\n",
    "- Fit the `GridSearchCV` object using `X_train` and `y_train`.\n",
    "- Print the optimal `alpha` value using the `.best_params_` attribute on our `GridSearchCV` object.\n",
    "- Print the best RMSE score using the `.best_score_` attribute on our `GridSearchCV` object.\n",
    "- Assign the optimized model to `ridge_pipe` using the `.best_estimator_` attribute on our `GridSearchCV` object.\n",
    "> **Note:**  Pass `scoring = 'neg_root_mean_squared_error'` as an argument to `GridSearchCV()` to ensure that it computes the RMSE for our Ridge model."
   ]
  },
  {
   "cell_type": "code",
   "execution_count": 425,
   "metadata": {},
   "outputs": [],
   "source": [
    "# Importing Ridge\n",
    "from sklearn.linear_model import Ridge"
   ]
  },
  {
   "cell_type": "code",
   "execution_count": 426,
   "metadata": {},
   "outputs": [],
   "source": [
    "# Importing GridSearchCV\n",
    "from sklearn.model_selection import GridSearchCV"
   ]
  },
  {
   "cell_type": "code",
   "execution_count": 437,
   "metadata": {},
   "outputs": [],
   "source": [
    "# Creating Ridge Pipeline\n",
    "ridge_pipe = Pipeline([('Imputation', KNNImputer(n_neighbors=7)),\n",
    "                       ('Scaler', StandardScaler()), \n",
    "                       ('Model', Ridge())])\n",
    "\n"
   ]
  },
  {
   "cell_type": "code",
   "execution_count": 429,
   "metadata": {},
   "outputs": [],
   "source": [
    "params = {'Model__alpha':np.linspace(0, 1, 40)}"
   ]
  },
  {
   "cell_type": "code",
   "execution_count": 442,
   "metadata": {},
   "outputs": [
    {
     "name": "stdout",
     "output_type": "stream",
     "text": [
      "Best Alpha:  {'Model__alpha': 0.02564102564102564}\n",
      "RMSE:  -0.14608064901455564\n"
     ]
    }
   ],
   "source": [
    "# Optimizing alpha hyperparameter using GridSearchCV\n",
    "grid_search = GridSearchCV(estimator = ridge_pipe, \n",
    "                           param_grid = params,\n",
    "                           scoring = 'neg_root_mean_squared_error')\n",
    "grid_search.fit(X_train, y_train)\n",
    "print('Best Alpha: ', grid_search.best_params_)\n",
    "print('RMSE: ', grid_search.best_score_)\n",
    "\n"
   ]
  },
  {
   "cell_type": "code",
   "execution_count": 443,
   "metadata": {},
   "outputs": [
    {
     "name": "stdout",
     "output_type": "stream",
     "text": [
      "Pipeline(steps=[('Imputation', KNNImputer(n_neighbors=7)),\n",
      "                ('Scaler', StandardScaler()),\n",
      "                ('Model', Ridge(alpha=0.02564102564102564))])\n"
     ]
    }
   ],
   "source": [
    "# Retrieving optimized Ridge model\n",
    "ridge_pipe = ridge_pipe = grid_search.best_estimator_\n",
    "\n",
    "print(ridge_pipe)"
   ]
  },
  {
   "cell_type": "markdown",
   "metadata": {},
   "source": [
    "### Wrapping it all up"
   ]
  },
  {
   "cell_type": "markdown",
   "metadata": {},
   "source": [
    "We're nearly there! Now its time to train our models using the whole initial training set to then predict on the test set:\n",
    "- Import the `mean_squared_error()` function from scikit learn\n",
    "- Fit each model on the training set.\n",
    "- Predict with each model on the test set.\n",
    "- Print out the RMSE of your predictions using mean_squared_error(). \n",
    "\n",
    "> **Note**: To get the RMSE instead of the MSE, just pass `squared=False` as an argument."
   ]
  },
  {
   "cell_type": "code",
   "execution_count": 444,
   "metadata": {},
   "outputs": [],
   "source": [
    "# Importing mean_squared_error\n",
    "from sklearn.metrics import mean_squared_error"
   ]
  },
  {
   "cell_type": "code",
   "execution_count": 445,
   "metadata": {},
   "outputs": [
    {
     "name": "stdout",
     "output_type": "stream",
     "text": [
      "Linear Regression RMSE:\n",
      "0.15739131573637788\n"
     ]
    }
   ],
   "source": [
    "# Fit and predict Linear Regression pipeline\n",
    "lin_reg_pipe.fit(X_train,y_train)\n",
    "y_pred = lin_reg_pipe.predict(X_test)\n",
    "print('Linear Regression RMSE:')\n",
    "print(mean_squared_error(y_test, y_pred, squared=False))"
   ]
  },
  {
   "cell_type": "code",
   "execution_count": 446,
   "metadata": {},
   "outputs": [
    {
     "name": "stdout",
     "output_type": "stream",
     "text": [
      "Support Vector Machine RMSE:\n",
      "0.15946334752071706\n"
     ]
    }
   ],
   "source": [
    "# Fit and predict SVM pipeline\n",
    "svr_pipe.fit(X_train,y_train)\n",
    "y_pred = svr_pipe.predict(X_test)\n",
    "print('Support Vector Machine RMSE:')\n",
    "print(mean_squared_error(y_test, y_pred, squared=False))"
   ]
  },
  {
   "cell_type": "code",
   "execution_count": 454,
   "metadata": {},
   "outputs": [
    {
     "name": "stdout",
     "output_type": "stream",
     "text": [
      "Ridge RMSE:\n",
      "0.15686201188962365\n"
     ]
    }
   ],
   "source": [
    "# Fit and predict Ridge pipeline\n",
    "ridge_pipe.fit(X_train,y_train)\n",
    "y_pred = ridge_pipe.predict(X_test)\n",
    "print('Ridge RMSE:')\n",
    "print(mean_squared_error(y_test, y_pred, squared=False))"
   ]
  }
 ],
 "metadata": {
  "kernelspec": {
   "display_name": "Python for Data Science",
   "language": "python",
   "name": "pyds"
  },
  "language_info": {
   "codemirror_mode": {
    "name": "ipython",
    "version": 3
   },
   "file_extension": ".py",
   "mimetype": "text/x-python",
   "name": "python",
   "nbconvert_exporter": "python",
   "pygments_lexer": "ipython3",
   "version": "3.8.5"
  }
 },
 "nbformat": 4,
 "nbformat_minor": 4
}
